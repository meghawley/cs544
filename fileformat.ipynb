{
 "cells": [
  {
   "cell_type": "code",
   "execution_count": 4,
   "id": "6eeab560-b411-4071-8076-4be425e65b46",
   "metadata": {},
   "outputs": [
    {
     "name": "stdout",
     "output_type": "stream",
     "text": [
      "total 188M\n",
      "drwxrwxr-x  3 megan megan 4.0K Feb 24 19:24 .\n",
      "drwxr-x--- 15 megan megan 4.0K Feb 24 19:23 ..\n",
      "drwxrwxr-x  2 megan megan 4.0K Feb 24 19:21 .ipynb_checkpoints\n",
      "-rw-rw-r--  1 megan megan   72 Feb 19 17:47 Untitled.ipynb\n",
      "-rw-rw-r--  1 megan megan  16K Feb 24 19:23 Untitled1.ipynb\n",
      "-rw-rw-r--  1 megan megan 5.0K Feb  3 16:22 cache.ipynb\n",
      "-rw-r-----  1 megan megan 167M Nov  1 18:05 hdma-wi-2021.csv\n",
      "-rw-rw-r--  1 megan megan  21M Jan  5 20:30 hdma-wi-2021.zip\n",
      "-rw-rw-r--  1 megan megan 8.3K Feb 13 20:50 locks.ipynb\n",
      "-rw-rw-r--  1 megan megan 172K Feb 10 16:17 pytorch.ipynb\n",
      "-rw-rw-r--  1 megan megan 1.9K Feb 10 16:41 threading.ipynb\n"
     ]
    }
   ],
   "source": [
    "! ls -lah"
   ]
  },
  {
   "cell_type": "code",
   "execution_count": 1,
   "id": "70edb39e-c1a2-4574-8f58-bcecc2241df9",
   "metadata": {},
   "outputs": [
    {
     "name": "stdout",
     "output_type": "stream",
     "text": [
      "avg loan: 204961.21752386744\n",
      "total columns: 99\n",
      "data load seconds: 6.0998780727386475\n",
      "computation seconds: 0.011187314987182617\n"
     ]
    }
   ],
   "source": [
    "! sudo sh -c \"echo 3 > /proc/sys/vm/drop_caches\"\n",
    "import time, pandas as pd\n",
    "\n",
    "t0 = time.time()\n",
    "#df = pd.read_csv(\"hdma-wi-2021.csv\")\n",
    "df = pd.read_csv(\"hdma-wi-2021.csv\", dtype={col: str for col in [22,23,24,26,27,28,29,30,31,32,33,38,43,44]})\n",
    "t1 = time.time()\n",
    "avg = df[\"loan_amount\"].mean()\n",
    "t2 = time.time()\n",
    "print(\"avg loan:\", avg)\n",
    "print(\"total columns:\", len(df.columns))\n",
    "print(\"data load seconds:\", t1-t0)\n",
    "print(\"computation seconds:\", t2-t1)\n"
   ]
  },
  {
   "cell_type": "code",
   "execution_count": 2,
   "id": "01d3a13d-e75e-40ad-9694-b705ed93a7cf",
   "metadata": {},
   "outputs": [],
   "source": [
    "df.to_parquet('loans.parquet')"
   ]
  },
  {
   "cell_type": "code",
   "execution_count": 2,
   "id": "ab91ac90-caec-4143-b0ff-a7b94cfb1c6f",
   "metadata": {},
   "outputs": [
    {
     "name": "stdout",
     "output_type": "stream",
     "text": [
      "avg loan: 204961.21752386744\n",
      "total columns: 99\n",
      "data load seconds: 1.2412755489349365\n",
      "computation seconds: 0.0033636093139648438\n"
     ]
    }
   ],
   "source": [
    "! sudo sh -c \"echo 3 > /proc/sys/vm/drop_caches\"\n",
    "import time, pandas as pd\n",
    "\n",
    "t0 = time.time()\n",
    "\n",
    "df = pd.read_parquet(\"loans.parquet\")\n",
    "t1 = time.time()\n",
    "avg = df[\"loan_amount\"].mean()\n",
    "t2 = time.time()\n",
    "print(\"avg loan:\", avg)\n",
    "print(\"total columns:\", len(df.columns))\n",
    "print(\"data load seconds:\", t1-t0)\n",
    "print(\"computation seconds:\", t2-t1)\n"
   ]
  },
  {
   "cell_type": "code",
   "execution_count": 3,
   "id": "272ca088-eace-4d54-a62f-d0c81c7c0269",
   "metadata": {},
   "outputs": [],
   "source": [
    "df = None"
   ]
  },
  {
   "cell_type": "code",
   "execution_count": 4,
   "id": "f01baf74-cfd0-4bd1-859e-839e9058ecb7",
   "metadata": {},
   "outputs": [],
   "source": [
    "## only read one col"
   ]
  },
  {
   "cell_type": "code",
   "execution_count": 6,
   "id": "2bcfdea1-fa4a-41c1-8b95-8e3fe3cdb2e1",
   "metadata": {},
   "outputs": [
    {
     "name": "stdout",
     "output_type": "stream",
     "text": [
      "avg loan: 204961.21752386744\n",
      "total columns: 1\n",
      "data load seconds: 1.943986177444458\n",
      "computation seconds: 0.0018086433410644531\n"
     ]
    }
   ],
   "source": [
    "! sudo sh -c \"echo 3 > /proc/sys/vm/drop_caches\"\n",
    "import time, pandas as pd\n",
    "\n",
    "t0 = time.time()\n",
    "\n",
    "df = pd.read_csv(\"hdma-wi-2021.csv\", usecols=['loan_amount'])\n",
    "t1 = time.time()\n",
    "avg = df[\"loan_amount\"].mean()\n",
    "t2 = time.time()\n",
    "print(\"avg loan:\", avg)\n",
    "print(\"total columns:\", len(df.columns))\n",
    "print(\"data load seconds:\", t1-t0)\n",
    "print(\"computation seconds:\", t2-t1)\n"
   ]
  },
  {
   "cell_type": "code",
   "execution_count": 7,
   "id": "069d64f7-3fe6-44a6-8e1b-cf3a6c010e5d",
   "metadata": {},
   "outputs": [
    {
     "name": "stdout",
     "output_type": "stream",
     "text": [
      "avg loan: 204961.21752386744\n",
      "total columns: 1\n",
      "data load seconds: 0.02984929084777832\n",
      "computation seconds: 0.002114534378051758\n"
     ]
    }
   ],
   "source": [
    "! sudo sh -c \"echo 3 > /proc/sys/vm/drop_caches\"\n",
    "import time, pandas as pd\n",
    "\n",
    "t0 = time.time()\n",
    "\n",
    "df = pd.read_parquet(\"loans.parquet\", columns=['loan_amount'])\n",
    "t1 = time.time()\n",
    "avg = df[\"loan_amount\"].mean()\n",
    "t2 = time.time()\n",
    "print(\"avg loan:\", avg)\n",
    "print(\"total columns:\", len(df.columns))\n",
    "print(\"data load seconds:\", t1-t0)\n",
    "print(\"computation seconds:\", t2-t1)"
   ]
  },
  {
   "cell_type": "code",
   "execution_count": 1,
   "id": "dbf6dcb6-5c3d-4919-81f6-ab3b5a9c6cfe",
   "metadata": {},
   "outputs": [],
   "source": [
    "## compression"
   ]
  },
  {
   "cell_type": "code",
   "execution_count": 3,
   "id": "f79abea0-4721-4714-8e24-0990acf01a91",
   "metadata": {},
   "outputs": [],
   "source": [
    "import pandas as pd\n",
    "import time\n",
    "df = pd.read_parquet(\"loans.parquet\")"
   ]
  },
  {
   "cell_type": "code",
   "execution_count": 4,
   "id": "ec7080cc-8c14-4f72-b9c8-b5d1d86baf13",
   "metadata": {},
   "outputs": [
    {
     "name": "stdout",
     "output_type": "stream",
     "text": [
      "CPU times: user 2.07 s, sys: 109 ms, total: 2.18 s\n",
      "Wall time: 2.34 s\n"
     ]
    }
   ],
   "source": [
    "%%time\n",
    "df.to_parquet(\"snappy.parquet\", compression=\"snappy\")"
   ]
  },
  {
   "cell_type": "code",
   "execution_count": 5,
   "id": "5194bba1-3393-48e6-8a80-b63b543aeabb",
   "metadata": {},
   "outputs": [
    {
     "name": "stdout",
     "output_type": "stream",
     "text": [
      "CPU times: user 3.72 s, sys: 239 ms, total: 3.96 s\n",
      "Wall time: 4.11 s\n"
     ]
    }
   ],
   "source": [
    "%%time\n",
    "df.to_parquet(\"gzip.parquet\", compression=\"gzip\")"
   ]
  },
  {
   "cell_type": "code",
   "execution_count": 6,
   "id": "2b7383b7-0740-4a51-a877-a25ca24738da",
   "metadata": {},
   "outputs": [
    {
     "data": {
      "text/html": [
       "<div>\n",
       "<style scoped>\n",
       "    .dataframe tbody tr th:only-of-type {\n",
       "        vertical-align: middle;\n",
       "    }\n",
       "\n",
       "    .dataframe tbody tr th {\n",
       "        vertical-align: top;\n",
       "    }\n",
       "\n",
       "    .dataframe thead th {\n",
       "        text-align: right;\n",
       "    }\n",
       "</style>\n",
       "<table border=\"1\" class=\"dataframe\">\n",
       "  <thead>\n",
       "    <tr style=\"text-align: right;\">\n",
       "      <th></th>\n",
       "      <th>loan_amount</th>\n",
       "    </tr>\n",
       "  </thead>\n",
       "  <tbody>\n",
       "    <tr>\n",
       "      <th>0</th>\n",
       "      <td>305000.0</td>\n",
       "    </tr>\n",
       "    <tr>\n",
       "      <th>1</th>\n",
       "      <td>65000.0</td>\n",
       "    </tr>\n",
       "    <tr>\n",
       "      <th>2</th>\n",
       "      <td>75000.0</td>\n",
       "    </tr>\n",
       "    <tr>\n",
       "      <th>3</th>\n",
       "      <td>155000.0</td>\n",
       "    </tr>\n",
       "    <tr>\n",
       "      <th>4</th>\n",
       "      <td>305000.0</td>\n",
       "    </tr>\n",
       "  </tbody>\n",
       "</table>\n",
       "</div>"
      ],
      "text/plain": [
       "   loan_amount\n",
       "0     305000.0\n",
       "1      65000.0\n",
       "2      75000.0\n",
       "3     155000.0\n",
       "4     305000.0"
      ]
     },
     "execution_count": 6,
     "metadata": {},
     "output_type": "execute_result"
    }
   ],
   "source": [
    "# infers that it is gzip\n",
    "pd.read_parquet(\"gzip.parquet\", columns=[\"loan_amount\"]).head()"
   ]
  },
  {
   "cell_type": "code",
   "execution_count": null,
   "id": "1e775a5a-249c-4987-adec-5e7dd590c75c",
   "metadata": {},
   "outputs": [],
   "source": []
  }
 ],
 "metadata": {
  "kernelspec": {
   "display_name": "Python 3 (ipykernel)",
   "language": "python",
   "name": "python3"
  },
  "language_info": {
   "codemirror_mode": {
    "name": "ipython",
    "version": 3
   },
   "file_extension": ".py",
   "mimetype": "text/x-python",
   "name": "python",
   "nbconvert_exporter": "python",
   "pygments_lexer": "ipython3",
   "version": "3.10.6"
  }
 },
 "nbformat": 4,
 "nbformat_minor": 5
}
