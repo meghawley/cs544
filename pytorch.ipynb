{
 "cells": [
  {
   "cell_type": "code",
   "execution_count": 1,
   "id": "aae90e6b-9a67-4702-ab03-e5513f8f5b9a",
   "metadata": {},
   "outputs": [],
   "source": [
    "import torch"
   ]
  },
  {
   "cell_type": "code",
   "execution_count": 2,
   "id": "b50c56c9-5581-4be5-8c36-c48f9ddd67f5",
   "metadata": {},
   "outputs": [],
   "source": [
    "#x= torch.tensor(2**31,dtype=torch.int32)\n",
    "#x"
   ]
  },
  {
   "cell_type": "code",
   "execution_count": 3,
   "id": "7fb7b145-4f2a-4b6b-bbc4-44d8e6fd56ab",
   "metadata": {},
   "outputs": [
    {
     "data": {
      "text/plain": [
       "tensor(2147483647, dtype=torch.int32)"
      ]
     },
     "execution_count": 3,
     "metadata": {},
     "output_type": "execute_result"
    }
   ],
   "source": [
    "x= torch.tensor(2**31-1,dtype=torch.int32)\n",
    "x"
   ]
  },
  {
   "cell_type": "code",
   "execution_count": 4,
   "id": "3af00f63-9483-4dba-9463-bafe034d60b4",
   "metadata": {},
   "outputs": [],
   "source": [
    "small = x+1"
   ]
  },
  {
   "cell_type": "code",
   "execution_count": 5,
   "id": "95cab8c6-0058-46da-9b16-5549b4ce03d1",
   "metadata": {},
   "outputs": [
    {
     "data": {
      "text/plain": [
       "tensor(2147483647, dtype=torch.int32)"
      ]
     },
     "execution_count": 5,
     "metadata": {},
     "output_type": "execute_result"
    }
   ],
   "source": [
    "small -1"
   ]
  },
  {
   "cell_type": "code",
   "execution_count": 6,
   "id": "8de6be91-c517-4234-8cab-acd80bedf554",
   "metadata": {},
   "outputs": [
    {
     "data": {
      "text/plain": [
       "sys.float_info(max=1.7976931348623157e+308, max_exp=1024, max_10_exp=308, min=2.2250738585072014e-308, min_exp=-1021, min_10_exp=-307, dig=15, mant_dig=53, epsilon=2.220446049250313e-16, radix=2, rounds=1)"
      ]
     },
     "execution_count": 6,
     "metadata": {},
     "output_type": "execute_result"
    }
   ],
   "source": [
    "\n",
    "#floats\n",
    "import sys\n",
    "sys.float_info"
   ]
  },
  {
   "cell_type": "code",
   "execution_count": 7,
   "id": "37e9edb3-a548-44ef-a917-d6787273886c",
   "metadata": {},
   "outputs": [
    {
     "data": {
      "text/plain": [
       "(1.7976931348623157e+308, -1.7976931348623157e+308)"
      ]
     },
     "execution_count": 7,
     "metadata": {},
     "output_type": "execute_result"
    }
   ],
   "source": [
    "big = sys.float_info.max\n",
    "small = -big\n",
    "big, small"
   ]
  },
  {
   "cell_type": "code",
   "execution_count": 8,
   "id": "2646fc33-7467-48be-a96d-dbab7af1a52f",
   "metadata": {},
   "outputs": [
    {
     "data": {
      "text/plain": [
       "inf"
      ]
     },
     "execution_count": 8,
     "metadata": {},
     "output_type": "execute_result"
    }
   ],
   "source": [
    "2*big"
   ]
  },
  {
   "cell_type": "code",
   "execution_count": 9,
   "id": "542bd1a4-4a86-4b3e-a63a-a5bdefc798dc",
   "metadata": {},
   "outputs": [
    {
     "data": {
      "text/plain": [
       "-inf"
      ]
     },
     "execution_count": 9,
     "metadata": {},
     "output_type": "execute_result"
    }
   ],
   "source": [
    "small * 2"
   ]
  },
  {
   "cell_type": "code",
   "execution_count": 10,
   "id": "e40da68b-0401-456b-a375-5c7b8c9aa310",
   "metadata": {},
   "outputs": [
    {
     "data": {
      "text/plain": [
       "nan"
      ]
     },
     "execution_count": 10,
     "metadata": {},
     "output_type": "execute_result"
    }
   ],
   "source": [
    "2*big + 2*small"
   ]
  },
  {
   "cell_type": "code",
   "execution_count": 11,
   "id": "6d727a4d-3876-4664-a0fa-4d1042510ab0",
   "metadata": {},
   "outputs": [
    {
     "data": {
      "text/plain": [
       "tensor(3.1400)"
      ]
     },
     "execution_count": 11,
     "metadata": {},
     "output_type": "execute_result"
    }
   ],
   "source": [
    "torch.tensor(3.14)"
   ]
  },
  {
   "cell_type": "code",
   "execution_count": 12,
   "id": "2ee90a4e-5e76-4c9c-924f-12dd5bffd524",
   "metadata": {},
   "outputs": [
    {
     "data": {
      "text/plain": [
       "tensor([[0.9133, 0.7838],\n",
       "        [0.9617, 0.2266],\n",
       "        [0.1871, 0.0165],\n",
       "        [0.0269, 0.8363],\n",
       "        [0.3276, 0.7293],\n",
       "        [0.5906, 0.2309],\n",
       "        [0.3378, 0.6442],\n",
       "        [0.1042, 0.7728],\n",
       "        [0.1597, 0.7365],\n",
       "        [0.2916, 0.8341]])"
      ]
     },
     "execution_count": 12,
     "metadata": {},
     "output_type": "execute_result"
    }
   ],
   "source": [
    "torch.rand(10,2)"
   ]
  },
  {
   "cell_type": "code",
   "execution_count": 13,
   "id": "486632a3-0be0-41fd-868e-3a74549bc9b3",
   "metadata": {},
   "outputs": [
    {
     "data": {
      "text/plain": [
       "tensor([[0.8823, 0.9150],\n",
       "        [0.3829, 0.9593],\n",
       "        [0.3904, 0.6009],\n",
       "        [0.2566, 0.7936],\n",
       "        [0.9408, 0.1332],\n",
       "        [0.9346, 0.5936],\n",
       "        [0.8694, 0.5677],\n",
       "        [0.7411, 0.4294],\n",
       "        [0.8854, 0.5739],\n",
       "        [0.2666, 0.6274]])"
      ]
     },
     "execution_count": 13,
     "metadata": {},
     "output_type": "execute_result"
    }
   ],
   "source": [
    "torch.manual_seed(42)\n",
    "A = torch.rand(10,2)\n",
    "A"
   ]
  },
  {
   "cell_type": "code",
   "execution_count": 14,
   "id": "5cb9b5cd-f121-4001-8802-3007fcfceb0f",
   "metadata": {},
   "outputs": [
    {
     "data": {
      "text/plain": [
       "torch.float32"
      ]
     },
     "execution_count": 14,
     "metadata": {},
     "output_type": "execute_result"
    }
   ],
   "source": [
    "A.dtype"
   ]
  },
  {
   "cell_type": "code",
   "execution_count": 15,
   "id": "1729119e-cf18-44da-839a-dcadea9d2c4f",
   "metadata": {},
   "outputs": [
    {
     "data": {
      "text/plain": [
       "torch.Size([10, 2])"
      ]
     },
     "execution_count": 15,
     "metadata": {},
     "output_type": "execute_result"
    }
   ],
   "source": [
    "A.shape"
   ]
  },
  {
   "cell_type": "code",
   "execution_count": 16,
   "id": "09e8e7a5-f44a-4381-a68c-8b0879b947f0",
   "metadata": {},
   "outputs": [
    {
     "data": {
      "text/plain": [
       "device(type='cpu')"
      ]
     },
     "execution_count": 16,
     "metadata": {},
     "output_type": "execute_result"
    }
   ],
   "source": [
    "#is it in main memorry or on a gpu?\n",
    "A.device"
   ]
  },
  {
   "cell_type": "code",
   "execution_count": 17,
   "id": "6f6ac6c5-aba9-4ee0-af57-145a2d327c82",
   "metadata": {},
   "outputs": [
    {
     "data": {
      "text/plain": [
       "80"
      ]
     },
     "execution_count": 17,
     "metadata": {},
     "output_type": "execute_result"
    }
   ],
   "source": [
    "A.element_size() *A.nelement()"
   ]
  },
  {
   "cell_type": "code",
   "execution_count": 18,
   "id": "96ee8c59-9d4d-4b57-940d-96b183472cc8",
   "metadata": {},
   "outputs": [
    {
     "data": {
      "text/plain": [
       "4194304"
      ]
     },
     "execution_count": 18,
     "metadata": {},
     "output_type": "execute_result"
    }
   ],
   "source": [
    "B = torch.rand(1024,1024,dtype=torch.float32)\n",
    "B.element_size() *B.nelement()"
   ]
  },
  {
   "cell_type": "code",
   "execution_count": 19,
   "id": "bebe6ede-3a5b-4f0f-9346-973949ea7f2a",
   "metadata": {},
   "outputs": [],
   "source": [
    "A = torch.rand(3,3,dtype = torch.float64)#,device = 'cuda')\n",
    "A.to(torch.float64)\n",
    "if torch.cuda.is_available():\n",
    "    print('on gpu')\n",
    "    A = A.to('cuda')"
   ]
  },
  {
   "cell_type": "code",
   "execution_count": 20,
   "id": "17dd4f11-e0f5-426d-8a7d-ba3028c11f92",
   "metadata": {},
   "outputs": [
    {
     "data": {
      "text/plain": [
       "tensor([[0.0141, 0.5616, 0.8162, 0.0366, 0.4536, 0.9987, 0.9052, 0.0096, 0.7821]],\n",
       "       dtype=torch.float64)"
      ]
     },
     "execution_count": 20,
     "metadata": {},
     "output_type": "execute_result"
    }
   ],
   "source": [
    "A.reshape(1,9)"
   ]
  },
  {
   "cell_type": "code",
   "execution_count": 21,
   "id": "88460bf9-4873-46ac-beca-c4f0439a32d3",
   "metadata": {},
   "outputs": [
    {
     "data": {
      "text/plain": [
       "tensor([[0.0141, 0.5616, 0.8162, 0.0366, 0.4536, 0.9987, 0.9052, 0.0096, 0.7821]],\n",
       "       dtype=torch.float64)"
      ]
     },
     "execution_count": 21,
     "metadata": {},
     "output_type": "execute_result"
    }
   ],
   "source": [
    "A.reshape(1,-1) #-1 means whatever number makes it valid"
   ]
  },
  {
   "cell_type": "code",
   "execution_count": 22,
   "id": "1279ec73-5c46-4d94-b60d-01e5cc8f0617",
   "metadata": {},
   "outputs": [
    {
     "data": {
      "text/plain": [
       "torch.Size([3, 3])"
      ]
     },
     "execution_count": 22,
     "metadata": {},
     "output_type": "execute_result"
    }
   ],
   "source": [
    "A.T.shape"
   ]
  },
  {
   "cell_type": "code",
   "execution_count": 23,
   "id": "aee93b93-d969-4ce0-bd8f-ff60718ec7bf",
   "metadata": {},
   "outputs": [
    {
     "data": {
      "text/plain": [
       "tensor([[0.0141, 0.5616, 0.8162],\n",
       "        [0.0366, 0.4536, 0.9987],\n",
       "        [0.9052, 0.0096, 0.7821]], dtype=torch.float64)"
      ]
     },
     "execution_count": 23,
     "metadata": {},
     "output_type": "execute_result"
    }
   ],
   "source": [
    "A"
   ]
  },
  {
   "cell_type": "code",
   "execution_count": 24,
   "id": "21abbda0-5d2d-4204-8057-749378c37fac",
   "metadata": {},
   "outputs": [
    {
     "data": {
      "text/plain": [
       "tensor([[100.0141, 100.5616, 100.8162],\n",
       "        [100.0366, 100.4536, 100.9987],\n",
       "        [100.9052, 100.0096, 100.7821]], dtype=torch.float64)"
      ]
     },
     "execution_count": 24,
     "metadata": {},
     "output_type": "execute_result"
    }
   ],
   "source": [
    "A + 100 #element wise"
   ]
  },
  {
   "cell_type": "code",
   "execution_count": 25,
   "id": "dc67a182-4bc2-42b2-8a20-ac5fc4a7671b",
   "metadata": {},
   "outputs": [
    {
     "data": {
      "text/plain": [
       "tensor(0.5000)"
      ]
     },
     "execution_count": 25,
     "metadata": {},
     "output_type": "execute_result"
    }
   ],
   "source": [
    "torch.sigmoid(torch.tensor(0.0)) #s shapes curve from 0 to 1"
   ]
  },
  {
   "cell_type": "code",
   "execution_count": 26,
   "id": "0d449349-1d43-42e2-94b7-1ade9ec18dd3",
   "metadata": {},
   "outputs": [
    {
     "data": {
      "text/plain": [
       "tensor(1.)"
      ]
     },
     "execution_count": 26,
     "metadata": {},
     "output_type": "execute_result"
    }
   ],
   "source": [
    "torch.sigmoid(torch.tensor(99))"
   ]
  },
  {
   "cell_type": "code",
   "execution_count": 27,
   "id": "263f0da1-44d6-40c7-a1e6-f8aac30712da",
   "metadata": {},
   "outputs": [
    {
     "data": {
      "text/plain": [
       "tensor(0.0067)"
      ]
     },
     "execution_count": 27,
     "metadata": {},
     "output_type": "execute_result"
    }
   ],
   "source": [
    "torch.sigmoid(torch.tensor(-5))"
   ]
  },
  {
   "cell_type": "code",
   "execution_count": 28,
   "id": "a4d655cd-294b-4f83-846a-b9ef38ba2507",
   "metadata": {},
   "outputs": [
    {
     "data": {
      "text/plain": [
       "tensor([[0.5035, 0.6368, 0.6934],\n",
       "        [0.5091, 0.6115, 0.7308],\n",
       "        [0.7120, 0.5024, 0.6861]], dtype=torch.float64)"
      ]
     },
     "execution_count": 28,
     "metadata": {},
     "output_type": "execute_result"
    }
   ],
   "source": [
    "torch.sigmoid(A)"
   ]
  },
  {
   "cell_type": "code",
   "execution_count": 29,
   "id": "d7f3270c-47ad-4d5c-8fa8-120eb513d0b8",
   "metadata": {},
   "outputs": [
    {
     "data": {
      "text/plain": [
       "tensor([[1.9185, 2.4058],\n",
       "        [0.6191, 0.7402],\n",
       "        [1.6969, 2.2262],\n",
       "        [2.0896, 2.5060],\n",
       "        [1.0659, 1.3752],\n",
       "        [1.1488, 1.4152],\n",
       "        [1.7248, 2.3027],\n",
       "        [1.3973, 1.5972]])"
      ]
     },
     "execution_count": 29,
     "metadata": {},
     "output_type": "execute_result"
    }
   ],
   "source": [
    "x = torch.rand(8,3)\n",
    "y = torch.rand(3,5)\n",
    "z = torch.rand(5,2)\n",
    "x @ y @ z # @ is matrix mult"
   ]
  },
  {
   "cell_type": "code",
   "execution_count": 30,
   "id": "d028a02d-92de-4caf-8b1a-b304d894e397",
   "metadata": {},
   "outputs": [],
   "source": [
    "#want to make a prediction for each of the 10 rows\n",
    "data = torch.rand(10,3)"
   ]
  },
  {
   "cell_type": "code",
   "execution_count": 31,
   "id": "2f1511be-5ff1-4772-a198-7a166437f798",
   "metadata": {},
   "outputs": [
    {
     "data": {
      "text/plain": [
       "Linear(in_features=3, out_features=5, bias=True)"
      ]
     },
     "execution_count": 31,
     "metadata": {},
     "output_type": "execute_result"
    }
   ],
   "source": [
    "#make 5 predcitions for each row\n",
    "model = torch.nn.Linear(3,5)\n",
    "model"
   ]
  },
  {
   "cell_type": "code",
   "execution_count": 32,
   "id": "819b47c4-875a-4c12-9955-d191c82126b3",
   "metadata": {},
   "outputs": [
    {
     "data": {
      "text/plain": [
       "Parameter containing:\n",
       "tensor([[ 0.5281,  0.2027, -0.0659],\n",
       "        [-0.2103,  0.1608, -0.4322],\n",
       "        [ 0.3817, -0.3892,  0.2779],\n",
       "        [ 0.2653,  0.5579,  0.4429],\n",
       "        [-0.1187,  0.1361,  0.2882]], requires_grad=True)"
      ]
     },
     "execution_count": 32,
     "metadata": {},
     "output_type": "execute_result"
    }
   ],
   "source": [
    "model.weight"
   ]
  },
  {
   "cell_type": "code",
   "execution_count": 33,
   "id": "b34ac898-8ee5-4a69-9fdb-49f2cba6423b",
   "metadata": {},
   "outputs": [
    {
     "data": {
      "text/plain": [
       "Parameter containing:\n",
       "tensor([ 0.3718,  0.4606,  0.5400, -0.0021, -0.2210], requires_grad=True)"
      ]
     },
     "execution_count": 33,
     "metadata": {},
     "output_type": "execute_result"
    }
   ],
   "source": [
    "model.bias"
   ]
  },
  {
   "cell_type": "code",
   "execution_count": 34,
   "id": "4ae2157a-7f00-4ad0-ace8-a869d4be6a07",
   "metadata": {},
   "outputs": [
    {
     "data": {
      "text/plain": [
       "tensor([[ 0.4910,  0.3577,  0.6015,  0.2394, -0.1576],\n",
       "        [ 0.6923,  0.4652,  0.3178,  0.7202, -0.0500],\n",
       "        [ 0.9494,  0.0639,  0.8095,  0.9780, -0.0132],\n",
       "        [ 0.5497,  0.1710,  0.6641,  0.6245,  0.0124],\n",
       "        [ 0.7473,  0.2330,  0.8245,  0.3496, -0.2210],\n",
       "        [ 0.8916,  0.4162,  0.5169,  0.6400, -0.1815],\n",
       "        [ 0.6978,  0.2717,  0.6050,  0.6354, -0.0690],\n",
       "        [ 0.6401,  0.2313,  0.5573,  0.7713,  0.0274],\n",
       "        [ 0.4927,  0.3393,  0.6411,  0.2087, -0.1704],\n",
       "        [ 0.6788,  0.1405,  0.7929,  0.5698, -0.0742]], grad_fn=<AddBackward0>)"
      ]
     },
     "execution_count": 34,
     "metadata": {},
     "output_type": "execute_result"
    }
   ],
   "source": [
    "data @ model.weight.T + model.bias"
   ]
  },
  {
   "cell_type": "code",
   "execution_count": 35,
   "id": "3b08baf6-b012-4fdc-abac-43fa5196a53b",
   "metadata": {},
   "outputs": [
    {
     "data": {
      "text/plain": [
       "tensor([[ 0.4910,  0.3577,  0.6015,  0.2394, -0.1576],\n",
       "        [ 0.6923,  0.4652,  0.3178,  0.7202, -0.0500],\n",
       "        [ 0.9494,  0.0639,  0.8095,  0.9780, -0.0132],\n",
       "        [ 0.5497,  0.1710,  0.6641,  0.6245,  0.0124],\n",
       "        [ 0.7473,  0.2330,  0.8245,  0.3496, -0.2210],\n",
       "        [ 0.8916,  0.4162,  0.5169,  0.6400, -0.1815],\n",
       "        [ 0.6978,  0.2717,  0.6050,  0.6354, -0.0690],\n",
       "        [ 0.6401,  0.2313,  0.5573,  0.7713,  0.0274],\n",
       "        [ 0.4927,  0.3393,  0.6411,  0.2087, -0.1704],\n",
       "        [ 0.6788,  0.1405,  0.7929,  0.5698, -0.0742]],\n",
       "       grad_fn=<AddmmBackward0>)"
      ]
     },
     "execution_count": 35,
     "metadata": {},
     "output_type": "execute_result"
    }
   ],
   "source": [
    "# model is a callable object -> it works like a function\n",
    "model(data)"
   ]
  },
  {
   "cell_type": "code",
   "execution_count": 36,
   "id": "accc747b-08cc-4f1d-b6a3-ac5593537094",
   "metadata": {},
   "outputs": [
    {
     "data": {
      "text/plain": [
       "20"
      ]
     },
     "execution_count": 36,
     "metadata": {},
     "output_type": "execute_result"
    }
   ],
   "source": [
    "class Mult:\n",
    "    def __init__(self, factor):\n",
    "        self.factor = factor\n",
    "    def __call__(self, number):\n",
    "        return number * self.factor\n",
    "        \n",
    "double = Mult(2)\n",
    "double(10)"
   ]
  },
  {
   "cell_type": "code",
   "execution_count": 37,
   "id": "ad888d1f-5af8-4295-ab8b-c8eb72567e09",
   "metadata": {},
   "outputs": [
    {
     "data": {
      "text/plain": [
       "15"
      ]
     },
     "execution_count": 37,
     "metadata": {},
     "output_type": "execute_result"
    }
   ],
   "source": [
    "triple = Mult(3)\n",
    "triple(5)"
   ]
  },
  {
   "cell_type": "code",
   "execution_count": 38,
   "id": "6427c8e4-fa8d-4025-bdce-84013bc63805",
   "metadata": {},
   "outputs": [],
   "source": [
    "#optimization - can be minimzation or maximazation"
   ]
  },
  {
   "cell_type": "code",
   "execution_count": 39,
   "id": "998f5425-8548-4e3c-84e5-ad7e9849c576",
   "metadata": {},
   "outputs": [
    {
     "data": {
      "text/plain": [
       "[<matplotlib.lines.Line2D at 0x7f7c1593a050>]"
      ]
     },
     "execution_count": 39,
     "metadata": {},
     "output_type": "execute_result"
    },
    {
     "data": {
      "image/png": "[encoded data removed]",
      "text/plain": [
       "<Figure size 640x480 with 1 Axes>"
      ]
     },
     "metadata": {},
     "output_type": "display_data"
    }
   ],
   "source": [
    "# we want to choose x that minimizes y\n",
    "import matplotlib.pyplot as plt\n",
    "\n",
    "def f(x):\n",
    "    return (x - 1) * (x + 2) * (x - 3) * (x + 6)\n",
    "\n",
    "x = torch.arange(-8, 5, 0.1)\n",
    "y = f(x)\n",
    "plt.plot(x, y)"
   ]
  },
  {
   "cell_type": "code",
   "execution_count": 40,
   "id": "da684756-2f6c-4be9-886c-65bf7b4aae9e",
   "metadata": {},
   "outputs": [
    {
     "data": {
      "text/plain": [
       "tensor(36., grad_fn=<MulBackward0>)"
      ]
     },
     "execution_count": 40,
     "metadata": {},
     "output_type": "execute_result"
    }
   ],
   "source": [
    "x = torch.tensor(0.0,requires_grad = True)\n",
    "y = f(x)\n",
    "y.backward()\n",
    "y"
   ]
  },
  {
   "cell_type": "code",
   "execution_count": 41,
   "id": "819384ad-49ef-4c84-9e22-92737a2d5f3b",
   "metadata": {},
   "outputs": [
    {
     "data": {
      "text/plain": [
       "tensor(-24.)"
      ]
     },
     "execution_count": 41,
     "metadata": {},
     "output_type": "execute_result"
    }
   ],
   "source": [
    "#gradient\n",
    "x.grad"
   ]
  },
  {
   "cell_type": "code",
   "execution_count": 42,
   "id": "802bf1a3-3ef2-40a1-9e7a-340a6497093b",
   "metadata": {},
   "outputs": [
    {
     "name": "stdout",
     "output_type": "stream",
     "text": [
      "y: tensor(36., grad_fn=<MulBackward0>)\n",
      "x grad: tensor(-24.)\n",
      "x: tensor(2.4000, requires_grad=True)\n",
      "y: tensor(-31.0464, grad_fn=<MulBackward0>)\n"
     ]
    }
   ],
   "source": [
    "#gradient optimizer\n",
    "x = torch.tensor(0.0,requires_grad = True)\n",
    "optimizer = torch.optim.SGD([x],lr = 0.1,maximize = False)\n",
    "y = f(x)\n",
    "y.backward()\n",
    "print('y:',y)\n",
    "print('x grad:',x.grad)\n",
    "optimizer.step()\n",
    "print('x:',x)\n",
    "y = f(x)\n",
    "print('y:',y)"
   ]
  },
  {
   "cell_type": "code",
   "execution_count": 43,
   "id": "f1acdeaa-9e58-4296-8f0a-675cd2aa01ca",
   "metadata": {},
   "outputs": [
    {
     "name": "stdout",
     "output_type": "stream",
     "text": [
      "y: tensor(36., grad_fn=<MulBackward0>)\n",
      "y: tensor(-31.0464, grad_fn=<MulBackward0>)\n",
      "y: tensor(19.6193, grad_fn=<MulBackward0>)\n",
      "y: tensor(279.3949, grad_fn=<MulBackward0>)\n",
      "y: tensor(992228.8125, grad_fn=<MulBackward0>)\n"
     ]
    }
   ],
   "source": [
    "#gradient optimizer\n",
    "x = torch.tensor(0.0,requires_grad = True)\n",
    "optimizer = torch.optim.SGD([x],lr = 0.1,maximize = False)\n",
    "for epoch in range(5):\n",
    "    y = f(x)\n",
    "    y.backward()\n",
    "    print('y:',y)\n",
    "    optimizer.step()\n",
    "    optimizer.zero_grad() #sets x.grad = 0 before next loop"
   ]
  },
  {
   "cell_type": "code",
   "execution_count": 44,
   "id": "8c22d4bb-4ef4-4a36-a63e-2c1882b88d3b",
   "metadata": {},
   "outputs": [
    {
     "name": "stdout",
     "output_type": "stream",
     "text": [
      "y tensor(36., grad_fn=<MulBackward0>)\n",
      "y tensor(29.3194, grad_fn=<MulBackward0>)\n",
      "y tensor(18.2556, grad_fn=<MulBackward0>)\n",
      "y tensor(2.5687, grad_fn=<MulBackward0>)\n"
     ]
    },
    {
     "data": {
      "image/png": "[encoded data removed]",
      "text/plain": [
       "<Figure size 640x480 with 1 Axes>"
      ]
     },
     "metadata": {},
     "output_type": "display_data"
    }
   ],
   "source": [
    "x = torch.arange(-8, 5, 0.1)\n",
    "y = f(x)\n",
    "plt.plot(x, y)\n",
    "\n",
    "\n",
    "\n",
    "x = torch.tensor(0.0, requires_grad=True)\n",
    "optimizer = torch.optim.SGD([x], lr=0.01)   # lr is learning rate\n",
    "\n",
    "for epoch in range(4):\n",
    "    y = f(x)\n",
    "    plt.plot(x.detach(), y.detach(), \"ro\")\n",
    "    y.backward()\n",
    "    print(\"y\", y)\n",
    "    optimizer.step()    # doesn't set the grad, it adds to x.grad\n",
    "    optimizer.zero_grad()   # set x.grad = 0 before the next loop"
   ]
  },
  {
   "cell_type": "code",
   "execution_count": 45,
   "id": "c10d8133-a1e6-4e50-8fbc-3d447f953ef9",
   "metadata": {},
   "outputs": [
    {
     "name": "stderr",
     "output_type": "stream",
     "text": [
      "/tmp/ipykernel_849805/1724107054.py:4: DtypeWarning: Columns (5) have mixed types. Specify dtype option on import or set low_memory=False.\n",
      "  df = pd.read_csv(path, names=[\"station\", \"date\", \"element\", \"value\", \"m\", \"q\", \"s\", \"obs\"])\n"
     ]
    }
   ],
   "source": [
    "import torch\n",
    "import pandas as pd\n",
    "path = \"https://pages.cs.wisc.edu/~harter/cs639/data/wi-stations/USW00014837.csv.gz\"\n",
    "df = pd.read_csv(path, names=[\"station\", \"date\", \"element\", \"value\", \"m\", \"q\", \"s\", \"obs\"])\n",
    "\n",
    "#https://pages.cs.wisc.edu/~harter/cs639/data/wi-stations/USW00014839.csv.gz"
   ]
  },
  {
   "cell_type": "code",
   "execution_count": 46,
   "id": "f5f6414c-a480-4feb-b192-8ce287a49df2",
   "metadata": {},
   "outputs": [
    {
     "data": {
      "text/plain": [
       "0          True\n",
       "1          True\n",
       "2          True\n",
       "3          True\n",
       "4          True\n",
       "          ...  \n",
       "409846    False\n",
       "409847    False\n",
       "409848    False\n",
       "409849    False\n",
       "409850    False\n",
       "Name: element, Length: 409851, dtype: bool"
      ]
     },
     "execution_count": 46,
     "metadata": {},
     "output_type": "execute_result"
    }
   ],
   "source": [
    "df['element'].isin(['TMIN','TMAX'])"
   ]
  },
  {
   "cell_type": "code",
   "execution_count": 47,
   "id": "dca0770c-2dce-422a-9c3f-9b98320887a7",
   "metadata": {},
   "outputs": [
    {
     "data": {
      "text/html": [
       "<div>\n",
       "<style scoped>\n",
       "    .dataframe tbody tr th:only-of-type {\n",
       "        vertical-align: middle;\n",
       "    }\n",
       "\n",
       "    .dataframe tbody tr th {\n",
       "        vertical-align: top;\n",
       "    }\n",
       "\n",
       "    .dataframe thead th {\n",
       "        text-align: right;\n",
       "    }\n",
       "</style>\n",
       "<table border=\"1\" class=\"dataframe\">\n",
       "  <thead>\n",
       "    <tr style=\"text-align: right;\">\n",
       "      <th></th>\n",
       "      <th>station</th>\n",
       "      <th>date</th>\n",
       "      <th>element</th>\n",
       "      <th>value</th>\n",
       "      <th>m</th>\n",
       "      <th>q</th>\n",
       "      <th>s</th>\n",
       "      <th>obs</th>\n",
       "    </tr>\n",
       "  </thead>\n",
       "  <tbody>\n",
       "    <tr>\n",
       "      <th>0</th>\n",
       "      <td>USW00014837</td>\n",
       "      <td>19391001</td>\n",
       "      <td>TMAX</td>\n",
       "      <td>194</td>\n",
       "      <td>NaN</td>\n",
       "      <td>NaN</td>\n",
       "      <td>X</td>\n",
       "      <td>NaN</td>\n",
       "    </tr>\n",
       "    <tr>\n",
       "      <th>1</th>\n",
       "      <td>USW00014837</td>\n",
       "      <td>19391002</td>\n",
       "      <td>TMAX</td>\n",
       "      <td>211</td>\n",
       "      <td>NaN</td>\n",
       "      <td>NaN</td>\n",
       "      <td>X</td>\n",
       "      <td>NaN</td>\n",
       "    </tr>\n",
       "    <tr>\n",
       "      <th>2</th>\n",
       "      <td>USW00014837</td>\n",
       "      <td>19391003</td>\n",
       "      <td>TMAX</td>\n",
       "      <td>233</td>\n",
       "      <td>NaN</td>\n",
       "      <td>NaN</td>\n",
       "      <td>X</td>\n",
       "      <td>NaN</td>\n",
       "    </tr>\n",
       "    <tr>\n",
       "      <th>3</th>\n",
       "      <td>USW00014837</td>\n",
       "      <td>19391004</td>\n",
       "      <td>TMAX</td>\n",
       "      <td>272</td>\n",
       "      <td>NaN</td>\n",
       "      <td>NaN</td>\n",
       "      <td>X</td>\n",
       "      <td>NaN</td>\n",
       "    </tr>\n",
       "    <tr>\n",
       "      <th>4</th>\n",
       "      <td>USW00014837</td>\n",
       "      <td>19391005</td>\n",
       "      <td>TMAX</td>\n",
       "      <td>211</td>\n",
       "      <td>NaN</td>\n",
       "      <td>NaN</td>\n",
       "      <td>X</td>\n",
       "      <td>NaN</td>\n",
       "    </tr>\n",
       "  </tbody>\n",
       "</table>\n",
       "</div>"
      ],
      "text/plain": [
       "       station      date element  value    m    q  s  obs\n",
       "0  USW00014837  19391001    TMAX    194  NaN  NaN  X  NaN\n",
       "1  USW00014837  19391002    TMAX    211  NaN  NaN  X  NaN\n",
       "2  USW00014837  19391003    TMAX    233  NaN  NaN  X  NaN\n",
       "3  USW00014837  19391004    TMAX    272  NaN  NaN  X  NaN\n",
       "4  USW00014837  19391005    TMAX    211  NaN  NaN  X  NaN"
      ]
     },
     "execution_count": 47,
     "metadata": {},
     "output_type": "execute_result"
    }
   ],
   "source": [
    "df2 = df[df['element'].isin(['TMIN','TMAX'])]\n",
    "df2.head()"
   ]
  },
  {
   "cell_type": "code",
   "execution_count": 48,
   "id": "005b96cd-45c7-4db2-ac8b-8780de06a11f",
   "metadata": {},
   "outputs": [
    {
     "data": {
      "text/html": [
       "<div>\n",
       "<style scoped>\n",
       "    .dataframe tbody tr th:only-of-type {\n",
       "        vertical-align: middle;\n",
       "    }\n",
       "\n",
       "    .dataframe tbody tr th {\n",
       "        vertical-align: top;\n",
       "    }\n",
       "\n",
       "    .dataframe thead th {\n",
       "        text-align: right;\n",
       "    }\n",
       "</style>\n",
       "<table border=\"1\" class=\"dataframe\">\n",
       "  <thead>\n",
       "    <tr style=\"text-align: right;\">\n",
       "      <th>element</th>\n",
       "      <th>TMAX</th>\n",
       "      <th>TMIN</th>\n",
       "    </tr>\n",
       "    <tr>\n",
       "      <th>date</th>\n",
       "      <th></th>\n",
       "      <th></th>\n",
       "    </tr>\n",
       "  </thead>\n",
       "  <tbody>\n",
       "    <tr>\n",
       "      <th>19391001</th>\n",
       "      <td>194</td>\n",
       "      <td>6</td>\n",
       "    </tr>\n",
       "    <tr>\n",
       "      <th>19391002</th>\n",
       "      <td>211</td>\n",
       "      <td>33</td>\n",
       "    </tr>\n",
       "    <tr>\n",
       "      <th>19391003</th>\n",
       "      <td>233</td>\n",
       "      <td>89</td>\n",
       "    </tr>\n",
       "    <tr>\n",
       "      <th>19391004</th>\n",
       "      <td>272</td>\n",
       "      <td>106</td>\n",
       "    </tr>\n",
       "    <tr>\n",
       "      <th>19391005</th>\n",
       "      <td>211</td>\n",
       "      <td>133</td>\n",
       "    </tr>\n",
       "  </tbody>\n",
       "</table>\n",
       "</div>"
      ],
      "text/plain": [
       "element   TMAX  TMIN\n",
       "date                \n",
       "19391001   194     6\n",
       "19391002   211    33\n",
       "19391003   233    89\n",
       "19391004   272   106\n",
       "19391005   211   133"
      ]
     },
     "execution_count": 48,
     "metadata": {},
     "output_type": "execute_result"
    }
   ],
   "source": [
    "#goal is to predict tmax given tmin\n",
    "temps = df2.pivot(index='date',columns='element',values='value')\n",
    "temps.head()"
   ]
  },
  {
   "cell_type": "code",
   "execution_count": 49,
   "id": "6ae36519-02a5-40e7-97c5-5d51e303d330",
   "metadata": {},
   "outputs": [
    {
     "data": {
      "text/plain": [
       "<AxesSubplot:xlabel='TMIN', ylabel='TMAX'>"
      ]
     },
     "execution_count": 49,
     "metadata": {},
     "output_type": "execute_result"
    },
    {
     "data": {
      "image/png": "[encoded data removed]",
      "text/plain": [
       "<Figure size 640x480 with 1 Axes>"
      ]
     },
     "metadata": {},
     "output_type": "display_data"
    }
   ],
   "source": [
    "temps.plot.scatter(x='TMIN',y='TMAX')"
   ]
  },
  {
   "cell_type": "code",
   "execution_count": 50,
   "id": "7fdc5648-df1f-4968-8c0c-194968c5026d",
   "metadata": {},
   "outputs": [],
   "source": [
    "#pytorch data:\n",
    "#1. Dataset\n",
    "#2. DataLoader: use dataset but provide shuffling and batching"
   ]
  },
  {
   "cell_type": "code",
   "execution_count": 51,
   "id": "26e9923f-a8ec-41bd-9ef5-8315489a6a20",
   "metadata": {},
   "outputs": [],
   "source": [
    "x = torch.tensor(temps[['TMIN']].values, dtype = torch.float32)\n",
    "y = torch.tensor(temps[['TMAX']].values, dtype = torch.float32)"
   ]
  },
  {
   "cell_type": "code",
   "execution_count": 52,
   "id": "25c355bc-ec2a-497c-b273-ea1e06c14bc0",
   "metadata": {},
   "outputs": [
    {
     "data": {
      "text/plain": [
       "(tensor([33.]), tensor([211.]))"
      ]
     },
     "execution_count": 52,
     "metadata": {},
     "output_type": "execute_result"
    }
   ],
   "source": [
    "import torch\n",
    "#all data is in memory at the same time\n",
    "ds = torch.utils.data.TensorDataset(x,y)\n",
    "ds[1]"
   ]
  },
  {
   "cell_type": "code",
   "execution_count": 53,
   "id": "e9fb7366-e894-429d-9c86-3a8d9e21eac3",
   "metadata": {},
   "outputs": [
    {
     "data": {
      "text/plain": [
       "(torch.utils.data.dataset.TensorDataset,\n",
       " torch.utils.data.dataset.Dataset,\n",
       " typing.Generic,\n",
       " object)"
      ]
     },
     "execution_count": 53,
     "metadata": {},
     "output_type": "execute_result"
    }
   ],
   "source": [
    "type(ds).__mro__"
   ]
  },
  {
   "cell_type": "code",
   "execution_count": 54,
   "id": "c22b67c9-8c0c-464c-8d73-b421abce6633",
   "metadata": {},
   "outputs": [
    {
     "name": "stderr",
     "output_type": "stream",
     "text": [
      "/tmp/ipykernel_849805/841781102.py:3: DtypeWarning: Columns (5) have mixed types. Specify dtype option on import or set low_memory=False.\n",
      "  df = pd.read_csv(path, names=[\"station\", \"date\", \"element\", \"value\", \"m\", \"q\", \"s\", \"obs\"])\n"
     ]
    }
   ],
   "source": [
    "class TempDS(torch.utils.data.dataset.Dataset):\n",
    "    def __init__(self, path):\n",
    "        df = pd.read_csv(path, names=[\"station\", \"date\", \"element\", \"value\", \"m\", \"q\", \"s\", \"obs\"])\n",
    "        df2 = df[df[\"element\"].isin([\"TMIN\", \"TMAX\"])]\n",
    "        temps = df2.pivot(index=\"date\", columns=\"element\", values=\"value\")\n",
    "        self.X = torch.tensor(temps[[\"TMIN\"]].values, dtype=torch.float32)\n",
    "        self.Y = torch.tensor(temps[[\"TMAX\"]].values, dtype=torch.float32)\n",
    "        \n",
    "    def __getitem__(self, index):\n",
    "        return self.X[index], self.Y[index]\n",
    "    \n",
    "    def __len__(self):\n",
    "        return len(self.X)\n",
    "\n",
    "ds = TempDS(\"https://pages.cs.wisc.edu/~harter/cs639/data/wi-stations/USW00014837.csv.gz\")"
   ]
  },
  {
   "cell_type": "code",
   "execution_count": 55,
   "id": "bcdc116b-033a-4d15-b755-aca89795a6ae",
   "metadata": {},
   "outputs": [
    {
     "data": {
      "text/plain": [
       "(tensor([[  6.],\n",
       "         [ 33.],\n",
       "         [ 89.],\n",
       "         ...,\n",
       "         [  0.],\n",
       "         [  0.],\n",
       "         [-32.]]),\n",
       " tensor([[194.],\n",
       "         [211.],\n",
       "         [233.],\n",
       "         ...,\n",
       "         [ 28.],\n",
       "         [ 22.],\n",
       "         [  0.]]))"
      ]
     },
     "execution_count": 55,
     "metadata": {},
     "output_type": "execute_result"
    }
   ],
   "source": [
    "ds[:]"
   ]
  },
  {
   "cell_type": "code",
   "execution_count": 56,
   "id": "f57d2a84-d114-4de2-82e2-30ba20ed8655",
   "metadata": {},
   "outputs": [
    {
     "data": {
      "text/plain": [
       "30428"
      ]
     },
     "execution_count": 56,
     "metadata": {},
     "output_type": "execute_result"
    }
   ],
   "source": [
    "len(ds)"
   ]
  },
  {
   "cell_type": "code",
   "execution_count": 57,
   "id": "a965d345-7bef-4687-81a1-dec4b627b391",
   "metadata": {},
   "outputs": [
    {
     "name": "stderr",
     "output_type": "stream",
     "text": [
      "/tmp/ipykernel_849805/841781102.py:3: DtypeWarning: Columns (5) have mixed types. Specify dtype option on import or set low_memory=False.\n",
      "  df = pd.read_csv(path, names=[\"station\", \"date\", \"element\", \"value\", \"m\", \"q\", \"s\", \"obs\"])\n"
     ]
    }
   ],
   "source": [
    "ds2 = TempDS(\"https://pages.cs.wisc.edu/~harter/cs639/data/wi-stations/USW00014839.csv.gz\")"
   ]
  },
  {
   "cell_type": "code",
   "execution_count": 58,
   "id": "48f215c0-c1fd-4e18-95c8-38ba365f6330",
   "metadata": {},
   "outputs": [],
   "source": [
    "dl = torch.utils.data.DataLoader(ds, shuffle=True, batch_size=10)"
   ]
  },
  {
   "cell_type": "code",
   "execution_count": 59,
   "id": "f4872777-9d60-4a1e-9bed-d4d3b10d2ec5",
   "metadata": {},
   "outputs": [
    {
     "name": "stdout",
     "output_type": "stream",
     "text": [
      "tensor([[  -6.],\n",
      "        [-150.],\n",
      "        [ -61.],\n",
      "        [ 161.],\n",
      "        [ -17.],\n",
      "        [   0.],\n",
      "        [-211.],\n",
      "        [-100.],\n",
      "        [ 100.],\n",
      "        [-106.]])\n",
      "tensor([[ 111.],\n",
      "        [  17.],\n",
      "        [  -6.],\n",
      "        [ 278.],\n",
      "        [ 150.],\n",
      "        [  61.],\n",
      "        [-117.],\n",
      "        [  28.],\n",
      "        [ 200.],\n",
      "        [  89.]])\n"
     ]
    }
   ],
   "source": [
    "for x,y in dl:\n",
    "    print(x)\n",
    "    print(y)\n",
    "    break"
   ]
  },
  {
   "cell_type": "code",
   "execution_count": 66,
   "id": "807919be-b165-45a5-a3c1-4e8f61b4d0b9",
   "metadata": {},
   "outputs": [
    {
     "name": "stdout",
     "output_type": "stream",
     "text": [
      "0 tensor(12933.2891, grad_fn=<MseLossBackward0>)\n",
      "1 tensor(11924.3096, grad_fn=<MseLossBackward0>)\n",
      "2 tensor(11164.3066, grad_fn=<MseLossBackward0>)\n",
      "3 tensor(9931.1357, grad_fn=<MseLossBackward0>)\n",
      "4 tensor(8901.0635, grad_fn=<MseLossBackward0>)\n",
      "5 tensor(8051.0732, grad_fn=<MseLossBackward0>)\n",
      "6 tensor(7658.9385, grad_fn=<MseLossBackward0>)\n",
      "7 tensor(6801.9937, grad_fn=<MseLossBackward0>)\n",
      "8 tensor(6290.0571, grad_fn=<MseLossBackward0>)\n",
      "9 tensor(5951.3916, grad_fn=<MseLossBackward0>)\n",
      "10 tensor(5520.8662, grad_fn=<MseLossBackward0>)\n",
      "11 tensor(5330.8911, grad_fn=<MseLossBackward0>)\n",
      "12 tensor(4849.8901, grad_fn=<MseLossBackward0>)\n",
      "13 tensor(4464.1758, grad_fn=<MseLossBackward0>)\n",
      "14 tensor(4162.4160, grad_fn=<MseLossBackward0>)\n",
      "15 tensor(3962.8240, grad_fn=<MseLossBackward0>)\n",
      "16 tensor(3720.9160, grad_fn=<MseLossBackward0>)\n",
      "17 tensor(3568.9424, grad_fn=<MseLossBackward0>)\n",
      "18 tensor(3446.1340, grad_fn=<MseLossBackward0>)\n",
      "19 tensor(3234.2434, grad_fn=<MseLossBackward0>)\n",
      "20 tensor(3099.9807, grad_fn=<MseLossBackward0>)\n",
      "21 tensor(2994.8174, grad_fn=<MseLossBackward0>)\n"
     ]
    },
    {
     "ename": "KeyboardInterrupt",
     "evalue": "",
     "output_type": "error",
     "traceback": [
      "\u001b[0;31m---------------------------------------------------------------------------\u001b[0m",
      "\u001b[0;31mKeyboardInterrupt\u001b[0m                         Traceback (most recent call last)",
      "Cell \u001b[0;32mIn[66], line 6\u001b[0m\n\u001b[1;32m      3\u001b[0m loss_fn \u001b[38;5;241m=\u001b[39m torch\u001b[38;5;241m.\u001b[39mnn\u001b[38;5;241m.\u001b[39mMSELoss()\n\u001b[1;32m      5\u001b[0m \u001b[38;5;28;01mfor\u001b[39;00m epoch \u001b[38;5;129;01min\u001b[39;00m \u001b[38;5;28mrange\u001b[39m(\u001b[38;5;241m50\u001b[39m):\n\u001b[0;32m----> 6\u001b[0m     \u001b[38;5;28;01mfor\u001b[39;00m batchx, batchy \u001b[38;5;129;01min\u001b[39;00m dl:\n\u001b[1;32m      7\u001b[0m         predictedy \u001b[38;5;241m=\u001b[39m model(batchx)\n\u001b[1;32m      8\u001b[0m         loss \u001b[38;5;241m=\u001b[39m loss_fn(batchy, predictedy)\n",
      "File \u001b[0;32m~/.local/lib/python3.10/site-packages/torch/utils/data/dataloader.py:628\u001b[0m, in \u001b[0;36m_BaseDataLoaderIter.__next__\u001b[0;34m(self)\u001b[0m\n\u001b[1;32m    625\u001b[0m \u001b[38;5;28;01mif\u001b[39;00m \u001b[38;5;28mself\u001b[39m\u001b[38;5;241m.\u001b[39m_sampler_iter \u001b[38;5;129;01mis\u001b[39;00m \u001b[38;5;28;01mNone\u001b[39;00m:\n\u001b[1;32m    626\u001b[0m     \u001b[38;5;66;03m# TODO(https://github.com/pytorch/pytorch/issues/76750)\u001b[39;00m\n\u001b[1;32m    627\u001b[0m     \u001b[38;5;28mself\u001b[39m\u001b[38;5;241m.\u001b[39m_reset()  \u001b[38;5;66;03m# type: ignore[call-arg]\u001b[39;00m\n\u001b[0;32m--> 628\u001b[0m data \u001b[38;5;241m=\u001b[39m \u001b[38;5;28;43mself\u001b[39;49m\u001b[38;5;241;43m.\u001b[39;49m\u001b[43m_next_data\u001b[49m\u001b[43m(\u001b[49m\u001b[43m)\u001b[49m\n\u001b[1;32m    629\u001b[0m \u001b[38;5;28mself\u001b[39m\u001b[38;5;241m.\u001b[39m_num_yielded \u001b[38;5;241m+\u001b[39m\u001b[38;5;241m=\u001b[39m \u001b[38;5;241m1\u001b[39m\n\u001b[1;32m    630\u001b[0m \u001b[38;5;28;01mif\u001b[39;00m \u001b[38;5;28mself\u001b[39m\u001b[38;5;241m.\u001b[39m_dataset_kind \u001b[38;5;241m==\u001b[39m _DatasetKind\u001b[38;5;241m.\u001b[39mIterable \u001b[38;5;129;01mand\u001b[39;00m \\\n\u001b[1;32m    631\u001b[0m         \u001b[38;5;28mself\u001b[39m\u001b[38;5;241m.\u001b[39m_IterableDataset_len_called \u001b[38;5;129;01mis\u001b[39;00m \u001b[38;5;129;01mnot\u001b[39;00m \u001b[38;5;28;01mNone\u001b[39;00m \u001b[38;5;129;01mand\u001b[39;00m \\\n\u001b[1;32m    632\u001b[0m         \u001b[38;5;28mself\u001b[39m\u001b[38;5;241m.\u001b[39m_num_yielded \u001b[38;5;241m>\u001b[39m \u001b[38;5;28mself\u001b[39m\u001b[38;5;241m.\u001b[39m_IterableDataset_len_called:\n",
      "File \u001b[0;32m~/.local/lib/python3.10/site-packages/torch/utils/data/dataloader.py:671\u001b[0m, in \u001b[0;36m_SingleProcessDataLoaderIter._next_data\u001b[0;34m(self)\u001b[0m\n\u001b[1;32m    669\u001b[0m \u001b[38;5;28;01mdef\u001b[39;00m \u001b[38;5;21m_next_data\u001b[39m(\u001b[38;5;28mself\u001b[39m):\n\u001b[1;32m    670\u001b[0m     index \u001b[38;5;241m=\u001b[39m \u001b[38;5;28mself\u001b[39m\u001b[38;5;241m.\u001b[39m_next_index()  \u001b[38;5;66;03m# may raise StopIteration\u001b[39;00m\n\u001b[0;32m--> 671\u001b[0m     data \u001b[38;5;241m=\u001b[39m \u001b[38;5;28;43mself\u001b[39;49m\u001b[38;5;241;43m.\u001b[39;49m\u001b[43m_dataset_fetcher\u001b[49m\u001b[38;5;241;43m.\u001b[39;49m\u001b[43mfetch\u001b[49m\u001b[43m(\u001b[49m\u001b[43mindex\u001b[49m\u001b[43m)\u001b[49m  \u001b[38;5;66;03m# may raise StopIteration\u001b[39;00m\n\u001b[1;32m    672\u001b[0m     \u001b[38;5;28;01mif\u001b[39;00m \u001b[38;5;28mself\u001b[39m\u001b[38;5;241m.\u001b[39m_pin_memory:\n\u001b[1;32m    673\u001b[0m         data \u001b[38;5;241m=\u001b[39m _utils\u001b[38;5;241m.\u001b[39mpin_memory\u001b[38;5;241m.\u001b[39mpin_memory(data, \u001b[38;5;28mself\u001b[39m\u001b[38;5;241m.\u001b[39m_pin_memory_device)\n",
      "File \u001b[0;32m~/.local/lib/python3.10/site-packages/torch/utils/data/_utils/fetch.py:61\u001b[0m, in \u001b[0;36m_MapDatasetFetcher.fetch\u001b[0;34m(self, possibly_batched_index)\u001b[0m\n\u001b[1;32m     59\u001b[0m \u001b[38;5;28;01melse\u001b[39;00m:\n\u001b[1;32m     60\u001b[0m     data \u001b[38;5;241m=\u001b[39m \u001b[38;5;28mself\u001b[39m\u001b[38;5;241m.\u001b[39mdataset[possibly_batched_index]\n\u001b[0;32m---> 61\u001b[0m \u001b[38;5;28;01mreturn\u001b[39;00m \u001b[38;5;28;43mself\u001b[39;49m\u001b[38;5;241;43m.\u001b[39;49m\u001b[43mcollate_fn\u001b[49m\u001b[43m(\u001b[49m\u001b[43mdata\u001b[49m\u001b[43m)\u001b[49m\n",
      "File \u001b[0;32m~/.local/lib/python3.10/site-packages/torch/utils/data/_utils/collate.py:265\u001b[0m, in \u001b[0;36mdefault_collate\u001b[0;34m(batch)\u001b[0m\n\u001b[1;32m    204\u001b[0m \u001b[38;5;28;01mdef\u001b[39;00m \u001b[38;5;21mdefault_collate\u001b[39m(batch):\n\u001b[1;32m    205\u001b[0m \u001b[38;5;250m    \u001b[39m\u001b[38;5;124mr\u001b[39m\u001b[38;5;124;03m\"\"\"\u001b[39;00m\n\u001b[1;32m    206\u001b[0m \u001b[38;5;124;03m        Function that takes in a batch of data and puts the elements within the batch\u001b[39;00m\n\u001b[1;32m    207\u001b[0m \u001b[38;5;124;03m        into a tensor with an additional outer dimension - batch size. The exact output type can be\u001b[39;00m\n\u001b[0;32m   (...)\u001b[0m\n\u001b[1;32m    263\u001b[0m \u001b[38;5;124;03m            >>> default_collate(batch)  # Handle `CustomType` automatically\u001b[39;00m\n\u001b[1;32m    264\u001b[0m \u001b[38;5;124;03m    \"\"\"\u001b[39;00m\n\u001b[0;32m--> 265\u001b[0m     \u001b[38;5;28;01mreturn\u001b[39;00m \u001b[43mcollate\u001b[49m\u001b[43m(\u001b[49m\u001b[43mbatch\u001b[49m\u001b[43m,\u001b[49m\u001b[43m \u001b[49m\u001b[43mcollate_fn_map\u001b[49m\u001b[38;5;241;43m=\u001b[39;49m\u001b[43mdefault_collate_fn_map\u001b[49m\u001b[43m)\u001b[49m\n",
      "File \u001b[0;32m~/.local/lib/python3.10/site-packages/torch/utils/data/_utils/collate.py:143\u001b[0m, in \u001b[0;36mcollate\u001b[0;34m(batch, collate_fn_map)\u001b[0m\n\u001b[1;32m    140\u001b[0m transposed \u001b[38;5;241m=\u001b[39m \u001b[38;5;28mlist\u001b[39m(\u001b[38;5;28mzip\u001b[39m(\u001b[38;5;241m*\u001b[39mbatch))  \u001b[38;5;66;03m# It may be accessed twice, so we use a list.\u001b[39;00m\n\u001b[1;32m    142\u001b[0m \u001b[38;5;28;01mif\u001b[39;00m \u001b[38;5;28misinstance\u001b[39m(elem, \u001b[38;5;28mtuple\u001b[39m):\n\u001b[0;32m--> 143\u001b[0m     \u001b[38;5;28;01mreturn\u001b[39;00m [collate(samples, collate_fn_map\u001b[38;5;241m=\u001b[39mcollate_fn_map) \u001b[38;5;28;01mfor\u001b[39;00m samples \u001b[38;5;129;01min\u001b[39;00m transposed]  \u001b[38;5;66;03m# Backwards compatibility.\u001b[39;00m\n\u001b[1;32m    144\u001b[0m \u001b[38;5;28;01melse\u001b[39;00m:\n\u001b[1;32m    145\u001b[0m     \u001b[38;5;28;01mtry\u001b[39;00m:\n",
      "File \u001b[0;32m~/.local/lib/python3.10/site-packages/torch/utils/data/_utils/collate.py:143\u001b[0m, in \u001b[0;36m<listcomp>\u001b[0;34m(.0)\u001b[0m\n\u001b[1;32m    140\u001b[0m transposed \u001b[38;5;241m=\u001b[39m \u001b[38;5;28mlist\u001b[39m(\u001b[38;5;28mzip\u001b[39m(\u001b[38;5;241m*\u001b[39mbatch))  \u001b[38;5;66;03m# It may be accessed twice, so we use a list.\u001b[39;00m\n\u001b[1;32m    142\u001b[0m \u001b[38;5;28;01mif\u001b[39;00m \u001b[38;5;28misinstance\u001b[39m(elem, \u001b[38;5;28mtuple\u001b[39m):\n\u001b[0;32m--> 143\u001b[0m     \u001b[38;5;28;01mreturn\u001b[39;00m [\u001b[43mcollate\u001b[49m\u001b[43m(\u001b[49m\u001b[43msamples\u001b[49m\u001b[43m,\u001b[49m\u001b[43m \u001b[49m\u001b[43mcollate_fn_map\u001b[49m\u001b[38;5;241;43m=\u001b[39;49m\u001b[43mcollate_fn_map\u001b[49m\u001b[43m)\u001b[49m \u001b[38;5;28;01mfor\u001b[39;00m samples \u001b[38;5;129;01min\u001b[39;00m transposed]  \u001b[38;5;66;03m# Backwards compatibility.\u001b[39;00m\n\u001b[1;32m    144\u001b[0m \u001b[38;5;28;01melse\u001b[39;00m:\n\u001b[1;32m    145\u001b[0m     \u001b[38;5;28;01mtry\u001b[39;00m:\n",
      "File \u001b[0;32m~/.local/lib/python3.10/site-packages/torch/utils/data/_utils/collate.py:120\u001b[0m, in \u001b[0;36mcollate\u001b[0;34m(batch, collate_fn_map)\u001b[0m\n\u001b[1;32m    118\u001b[0m \u001b[38;5;28;01mif\u001b[39;00m collate_fn_map \u001b[38;5;129;01mis\u001b[39;00m \u001b[38;5;129;01mnot\u001b[39;00m \u001b[38;5;28;01mNone\u001b[39;00m:\n\u001b[1;32m    119\u001b[0m     \u001b[38;5;28;01mif\u001b[39;00m elem_type \u001b[38;5;129;01min\u001b[39;00m collate_fn_map:\n\u001b[0;32m--> 120\u001b[0m         \u001b[38;5;28;01mreturn\u001b[39;00m \u001b[43mcollate_fn_map\u001b[49m\u001b[43m[\u001b[49m\u001b[43melem_type\u001b[49m\u001b[43m]\u001b[49m\u001b[43m(\u001b[49m\u001b[43mbatch\u001b[49m\u001b[43m,\u001b[49m\u001b[43m \u001b[49m\u001b[43mcollate_fn_map\u001b[49m\u001b[38;5;241;43m=\u001b[39;49m\u001b[43mcollate_fn_map\u001b[49m\u001b[43m)\u001b[49m\n\u001b[1;32m    122\u001b[0m     \u001b[38;5;28;01mfor\u001b[39;00m collate_type \u001b[38;5;129;01min\u001b[39;00m collate_fn_map:\n\u001b[1;32m    123\u001b[0m         \u001b[38;5;28;01mif\u001b[39;00m \u001b[38;5;28misinstance\u001b[39m(elem, collate_type):\n",
      "File \u001b[0;32m~/.local/lib/python3.10/site-packages/torch/utils/data/_utils/collate.py:163\u001b[0m, in \u001b[0;36mcollate_tensor_fn\u001b[0;34m(batch, collate_fn_map)\u001b[0m\n\u001b[1;32m    161\u001b[0m     storage \u001b[38;5;241m=\u001b[39m elem\u001b[38;5;241m.\u001b[39mstorage()\u001b[38;5;241m.\u001b[39m_new_shared(numel, device\u001b[38;5;241m=\u001b[39melem\u001b[38;5;241m.\u001b[39mdevice)\n\u001b[1;32m    162\u001b[0m     out \u001b[38;5;241m=\u001b[39m elem\u001b[38;5;241m.\u001b[39mnew(storage)\u001b[38;5;241m.\u001b[39mresize_(\u001b[38;5;28mlen\u001b[39m(batch), \u001b[38;5;241m*\u001b[39m\u001b[38;5;28mlist\u001b[39m(elem\u001b[38;5;241m.\u001b[39msize()))\n\u001b[0;32m--> 163\u001b[0m \u001b[38;5;28;01mreturn\u001b[39;00m \u001b[43mtorch\u001b[49m\u001b[38;5;241;43m.\u001b[39;49m\u001b[43mstack\u001b[49m\u001b[43m(\u001b[49m\u001b[43mbatch\u001b[49m\u001b[43m,\u001b[49m\u001b[43m \u001b[49m\u001b[38;5;241;43m0\u001b[39;49m\u001b[43m,\u001b[49m\u001b[43m \u001b[49m\u001b[43mout\u001b[49m\u001b[38;5;241;43m=\u001b[39;49m\u001b[43mout\u001b[49m\u001b[43m)\u001b[49m\n",
      "\u001b[0;31mKeyboardInterrupt\u001b[0m: "
     ]
    }
   ],
   "source": [
    "model = torch.nn.Linear(1, 1)\n",
    "optimizer = torch.optim.SGD([model.weight, model.bias], lr=0.00001)\n",
    "loss_fn = torch.nn.MSELoss()\n",
    "\n",
    "for epoch in range(50):\n",
    "    for batchx, batchy in dl:\n",
    "        predictedy = model(batchx)\n",
    "        loss = loss_fn(batchy, predictedy)\n",
    "        loss.backward() #update weight and bias\n",
    "        optimizer.step()\n",
    "        optimizer.zero_grad() #set grads to 0\n",
    "        # TODO: change model params based on loss\n",
    "    x,y = ds[:]\n",
    "    print(epoch,loss_fn(y,model(x)))"
   ]
  },
  {
   "cell_type": "code",
   "execution_count": 67,
   "id": "475be7df-7561-4ef0-856b-110038cfbee2",
   "metadata": {},
   "outputs": [
    {
     "data": {
      "text/plain": [
       "(Parameter containing:\n",
       " tensor([[1.0744]], requires_grad=True),\n",
       " Parameter containing:\n",
       " tensor([81.9020], requires_grad=True))"
      ]
     },
     "execution_count": 67,
     "metadata": {},
     "output_type": "execute_result"
    }
   ],
   "source": [
    "model.weight, model.bias"
   ]
  },
  {
   "cell_type": "code",
   "execution_count": 72,
   "id": "f9c14670-67f5-4471-99b4-0cf817b9e04c",
   "metadata": {},
   "outputs": [],
   "source": [
    "tmin = torch.arange(-400,300,dtype=torch.float32)\n",
    "predicted_tmax = model(tmin.reshape(-1,1)).reshape(-1)"
   ]
  },
  {
   "cell_type": "code",
   "execution_count": 75,
   "id": "9a1cfaa7-d171-4aec-b438-62ea13450a4d",
   "metadata": {},
   "outputs": [
    {
     "data": {
      "text/plain": [
       "[<matplotlib.lines.Line2D at 0x7f7c10b31450>]"
      ]
     },
     "execution_count": 75,
     "metadata": {},
     "output_type": "execute_result"
    },
    {
     "data": {
      "image/png": "[encoded data removed]",
      "text/plain": [
       "<Figure size 640x480 with 1 Axes>"
      ]
     },
     "metadata": {},
     "output_type": "display_data"
    }
   ],
   "source": [
    "import matplotlib.pyplot as plt\n",
    "temps.plot.scatter(x='TMIN',y='TMAX')\n",
    "plt.plot(tmin,predicted_tmax.detach(),'r')"
   ]
  },
  {
   "cell_type": "code",
   "execution_count": null,
   "id": "b2fcdc3a-2355-4dfd-869e-d93c5e7d86ec",
   "metadata": {},
   "outputs": [],
   "source": []
  }
 ],
 "metadata": {
  "kernelspec": {
   "display_name": "Python 3 (ipykernel)",
   "language": "python",
   "name": "python3"
  },
  "language_info": {
   "codemirror_mode": {
    "name": "ipython",
    "version": 3
   },
   "file_extension": ".py",
   "mimetype": "text/x-python",
   "name": "python",
   "nbconvert_exporter": "python",
   "pygments_lexer": "ipython3",
   "version": "3.10.6"
  }
 },
 "nbformat": 4,
 "nbformat_minor": 5
}
