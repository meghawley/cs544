{
 "cells": [
  {
   "cell_type": "code",
   "execution_count": 1,
   "id": "e341694e-0492-4c89-b2b4-aed5098e869b",
   "metadata": {},
   "outputs": [
    {
     "data": {
      "text/plain": [
       "['US1WIWK0118',\n",
       " 'US1WILC0025',\n",
       " 'US1WIWK0118',\n",
       " 'USC00470885',\n",
       " 'US1WIWK0118',\n",
       " 'US1WIMW0082',\n",
       " 'US1WIKN0013',\n",
       " 'US1WIWK0118',\n",
       " 'US1WILC0025',\n",
       " 'US1WIWK0118']"
      ]
     },
     "execution_count": 1,
     "metadata": {},
     "output_type": "execute_result"
    }
   ],
   "source": [
    "import requests\n",
    "import pandas as pd\n",
    "import random\n",
    "\n",
    "r = requests.get(\"https://pages.cs.wisc.edu/~harter/cs639/data/wi-stations/stations.txt\")\n",
    "r.raise_for_status()\n",
    "stations = r.text.strip().split(\"\\n\")\n",
    "stations = random.sample(stations, k=10)\n",
    "workload = random.choices(stations, k=100, weights=[0.3, 0.2] + [0.5/8]*8)\n",
    "\n",
    "#df = pd.read_csv(f\"https://pages.cs.wisc.edu/~harter/cs639/data/wi-stations/{station}.csv.gz\",\n",
    " #                        names=[\"station\", \"date\", \"element\", \"value\", \"m\", \"q\", \"s\", \"obs\"])\n",
    "\n",
    "workload[:10]"
   ]
  },
  {
   "cell_type": "code",
   "execution_count": 14,
   "id": "993ae3d8-de67-468a-8384-3a8b67d599a2",
   "metadata": {},
   "outputs": [],
   "source": [
    "import time\n",
    "\n",
    "cache_size = 4\n",
    "cache = {} # key is the station, value in the DF\n",
    "evict_order = [] # evict from front\n",
    "\n",
    "#stats\n",
    "hits = [] #1 is hit, 0 is miss\n",
    "latencies = []\n",
    "\n",
    "def get_df(station):\n",
    "    start = time.time()\n",
    "    if station in cache:\n",
    "        print(f\"hit {station}\")\n",
    "        \n",
    "        hits.append(1)\n",
    "        #LRU updates evict order when something used\n",
    "        print(evict_order)\n",
    "        evict_order.remove(station)\n",
    "        evict_order.append(station)\n",
    "        df = cache[station]\n",
    "        #print(cache)\n",
    "    else:\n",
    "       # print(\"miss\")\n",
    "        hits.append(0)\n",
    "        df = pd.read_csv(f\"https://pages.cs.wisc.edu/~harter/cs639/data/wi-stations/{station}.csv.gz\",\n",
    "                         names=[\"station\", \"date\", \"element\", \"value\", \"m\", \"q\", \"s\", \"obs\"])\n",
    "        cache[station] = df\n",
    "        evict_order.append(station)\n",
    "        \n",
    "        if len(cache) > cache_size:\n",
    "            #print('evict')\n",
    "            victim = evict_order.pop(0)\n",
    "            cache.pop(victim)\n",
    "    #print(evict_order)\n",
    "    end = time.time()\n",
    "    latencies.append((end-start)*1000)\n",
    "    #return df\n"
   ]
  },
  {
   "cell_type": "code",
   "execution_count": 15,
   "id": "80c62d40-195d-4677-bd26-9a43ca0f5123",
   "metadata": {},
   "outputs": [
    {
     "name": "stdout",
     "output_type": "stream",
     "text": [
      "hit US1WIWK0118\n",
      "['US1WIWK0118', 'US1WILC0025']\n",
      "hit US1WIWK0118\n",
      "['US1WILC0025', 'US1WIWK0118', 'USC00470885']\n",
      "hit US1WIWK0118\n",
      "['USC00470885', 'US1WIWK0118', 'US1WIMW0082', 'US1WIKN0013']\n",
      "hit US1WIWK0118\n",
      "['US1WIMW0082', 'US1WIKN0013', 'US1WIWK0118', 'US1WILC0025']\n",
      "Avg hit rate:  0.4\n",
      "Avg latency:  62.64212131500244\n"
     ]
    }
   ],
   "source": [
    "for station in workload[:10]:\n",
    "    df = get_df(station)\n",
    "hit_rate = sum(hits) /len(hits)\n",
    "print('Avg hit rate: ',hit_rate)\n",
    "lat = sum(latencies) /len(latencies)\n",
    "print('Avg latency: ',lat)"
   ]
  },
  {
   "cell_type": "code",
   "execution_count": 26,
   "id": "d877abfb-cafe-4b80-94cb-4dec5416c951",
   "metadata": {},
   "outputs": [
    {
     "name": "stdout",
     "output_type": "stream",
     "text": [
      "tail latency: 127.18074321746826\n"
     ]
    }
   ],
   "source": [
    "import numpy as np\n",
    "print('tail latency:',np.quantile(latencies,.9))"
   ]
  }
 ],
 "metadata": {
  "kernelspec": {
   "display_name": "Python 3 (ipykernel)",
   "language": "python",
   "name": "python3"
  },
  "language_info": {
   "codemirror_mode": {
    "name": "ipython",
    "version": 3
   },
   "file_extension": ".py",
   "mimetype": "text/x-python",
   "name": "python",
   "nbconvert_exporter": "python",
   "pygments_lexer": "ipython3",
   "version": "3.10.6"
  }
 },
 "nbformat": 4,
 "nbformat_minor": 5
}
