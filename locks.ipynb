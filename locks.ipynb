{
 "cells": [
  {
   "cell_type": "code",
   "execution_count": 1,
   "id": "c8daa52e-73bb-4556-bb58-34b483004c2b",
   "metadata": {},
   "outputs": [
    {
     "data": {
      "text/plain": [
       "tensor(1999578, dtype=torch.int32)"
      ]
     },
     "execution_count": 1,
     "metadata": {},
     "output_type": "execute_result"
    }
   ],
   "source": [
    "# has race condition, won't add to 2 million\n",
    "import threading\n",
    "import torch\n",
    "\n",
    "total = torch.tensor(0, dtype=torch.int32)\n",
    "\n",
    "def count_up(count):\n",
    "    global total\n",
    "    for i in range(count):\n",
    "        total += 1\n",
    "\n",
    "t1 = threading.Thread(target=count_up, args=[1000000])\n",
    "t2 = threading.Thread(target=count_up, args=[1000000])\n",
    "t1.start()\n",
    "t2.start()\n",
    "t1.join()\n",
    "t2.join()\n",
    "\n",
    "total"
   ]
  },
  {
   "cell_type": "code",
   "execution_count": 2,
   "id": "b1b48ff0-caa8-4eb1-8786-91d21e3088bf",
   "metadata": {},
   "outputs": [
    {
     "name": "stdout",
     "output_type": "stream",
     "text": [
      "  1           0 LOAD_CONST               0 (None)\n",
      "              2 RETURN_VALUE\n"
     ]
    }
   ],
   "source": [
    "import dis\n",
    "dis.dis(\"\")\n"
   ]
  },
  {
   "cell_type": "code",
   "execution_count": 3,
   "id": "36686f6e-3d64-44e2-90b1-3118e4a2af66",
   "metadata": {},
   "outputs": [
    {
     "name": "stdout",
     "output_type": "stream",
     "text": [
      "  1           0 LOAD_NAME                0 (total)\n",
      "              2 LOAD_CONST               0 (1)\n",
      "              4 INPLACE_ADD\n",
      "              6 STORE_NAME               0 (total)\n",
      "              8 LOAD_CONST               1 (None)\n",
      "             10 RETURN_VALUE\n"
     ]
    }
   ],
   "source": [
    "dis.dis(\"total += 1\")"
   ]
  },
  {
   "cell_type": "code",
   "execution_count": 4,
   "id": "9f7acf45-154b-4e44-87aa-0495df151203",
   "metadata": {},
   "outputs": [
    {
     "name": "stdout",
     "output_type": "stream",
     "text": [
      "seconds 15.86142897605896\n"
     ]
    },
    {
     "data": {
      "text/plain": [
       "tensor(1999607, dtype=torch.int32)"
      ]
     },
     "execution_count": 4,
     "metadata": {},
     "output_type": "execute_result"
    }
   ],
   "source": [
    "import time\n",
    "total = torch.tensor(0, dtype=torch.int32)\n",
    "\n",
    "def count_up(count):\n",
    "    global total\n",
    "    for i in range(count):\n",
    "        total += 1\n",
    "\n",
    "t1 = threading.Thread(target=count_up, args=[1000000])\n",
    "t2 = threading.Thread(target=count_up, args=[1000000])\n",
    "start = time.time()\n",
    "t1.start()\n",
    "t2.start()\n",
    "t1.join()\n",
    "t2.join()\n",
    "end = time.time()\n",
    "\n",
    "print(\"seconds\", end-start)\n",
    "total"
   ]
  },
  {
   "cell_type": "code",
   "execution_count": 5,
   "id": "49cd590f-780f-4593-ac07-19a3454d04f6",
   "metadata": {},
   "outputs": [
    {
     "name": "stdout",
     "output_type": "stream",
     "text": [
      "seconds 32.690959215164185\n"
     ]
    },
    {
     "data": {
      "text/plain": [
       "tensor(2000000, dtype=torch.int32)"
      ]
     },
     "execution_count": 5,
     "metadata": {},
     "output_type": "execute_result"
    }
   ],
   "source": [
    "# add locking\n",
    "import time\n",
    "\n",
    "total = torch.tensor(0, dtype=torch.int32)\n",
    "lock = threading.Lock() # protects total\n",
    "\n",
    "def count_up(count):\n",
    "    global total\n",
    "    for i in range(count):\n",
    "        lock.acquire()\n",
    "        total += 1\n",
    "        lock.release()\n",
    "\n",
    "t1 = threading.Thread(target=count_up, args=[1000000])\n",
    "t2 = threading.Thread(target=count_up, args=[1000000])\n",
    "start = time.time()\n",
    "t1.start()\n",
    "t2.start()\n",
    "t1.join()\n",
    "t2.join()\n",
    "end = time.time()\n",
    "\n",
    "print(\"seconds\", end-start)\n",
    "total"
   ]
  },
  {
   "cell_type": "code",
   "execution_count": 6,
   "id": "8ba3c496-07f4-4cd4-986d-d7509c307d32",
   "metadata": {},
   "outputs": [
    {
     "name": "stdout",
     "output_type": "stream",
     "text": [
      "seconds 24.14177966117859\n"
     ]
    },
    {
     "data": {
      "text/plain": [
       "tensor(2000000, dtype=torch.int32)"
      ]
     },
     "execution_count": 6,
     "metadata": {},
     "output_type": "execute_result"
    }
   ],
   "source": [
    "# add locking (coarse grained)\n",
    "import time\n",
    "\n",
    "total = torch.tensor(0, dtype=torch.int32)\n",
    "lock = threading.Lock() # protects total\n",
    "\n",
    "def count_up(count):\n",
    "    global total\n",
    "    lock.acquire()\n",
    "    for i in range(count):\n",
    "        total += 1\n",
    "    lock.release()\n",
    "\n",
    "t1 = threading.Thread(target=count_up, args=[1000000])\n",
    "t2 = threading.Thread(target=count_up, args=[1000000])\n",
    "start = time.time()\n",
    "t1.start()\n",
    "t2.start()\n",
    "t1.join()\n",
    "t2.join()\n",
    "end = time.time()\n",
    "\n",
    "print(\"seconds\", end-start)\n",
    "total"
   ]
  },
  {
   "cell_type": "code",
   "execution_count": 7,
   "id": "4f1cb254-34b9-4c75-8b20-8f0902d19c44",
   "metadata": {},
   "outputs": [],
   "source": [
    "bank_accounts = {\"x\": 25, \"y\": 100, \"z\": 200} # in dollars\n",
    "lock = threading.Lock() # protects bank_accounts\n",
    "\n",
    "def transfer(src, dst, amount):\n",
    "    lock.acquire()\n",
    "    success = False\n",
    "    if bank_accounts[src] >= amount:\n",
    "        bank_accounts[src] -= amount\n",
    "        bank_accounts[dst] += amount\n",
    "        success = True\n",
    "    print(\"transferred\" if success else \"denied\")\n",
    "    lock.release()"
   ]
  },
  {
   "cell_type": "code",
   "execution_count": 8,
   "id": "7ad8d450-aab9-4bbf-b019-b30ee9aa967e",
   "metadata": {},
   "outputs": [
    {
     "name": "stdout",
     "output_type": "stream",
     "text": [
      "{'x': 25, 'y': 100, 'z': 200}\n",
      "transferred\n",
      "{'x': 22, 'y': 103, 'z': 200}\n"
     ]
    }
   ],
   "source": [
    "print(bank_accounts)\n",
    "transfer(\"x\", \"y\", 3)\n",
    "print(bank_accounts)"
   ]
  },
  {
   "cell_type": "code",
   "execution_count": 9,
   "id": "3262741a-3ddc-429e-863b-b1a206adabde",
   "metadata": {},
   "outputs": [],
   "source": [
    "# fix the exception issue where the lock is never released\n",
    "bank_accounts = {\"x\": 25, \"y\": 100, \"z\": 200} # in dollars\n",
    "lock = threading.Lock() # protects bank_accounts\n",
    "\n",
    "def transfer(src, dst, amount):\n",
    "    with lock: #   calls lock.acquire() for me\n",
    "        success = False\n",
    "        if bank_accounts[src] >= amount:\n",
    "            bank_accounts[src] -= amount\n",
    "            bank_accounts[dst] += amount\n",
    "            success = True\n",
    "        print(\"transferred\" if success else \"denied\")\n",
    "    # calls lock.release() for me"
   ]
  },
  {
   "cell_type": "code",
   "execution_count": 10,
   "id": "60af9797-0af0-433c-a035-802966e44eac",
   "metadata": {},
   "outputs": [
    {
     "name": "stdout",
     "output_type": "stream",
     "text": [
      "transferred\n"
     ]
    }
   ],
   "source": [
    "transfer(\"x\", \"y\", 1)"
   ]
  },
  {
   "cell_type": "code",
   "execution_count": 11,
   "id": "1a8ee75c-ca5b-46d0-b3a1-3385b720c092",
   "metadata": {},
   "outputs": [
    {
     "name": "stdout",
     "output_type": "stream",
     "text": [
      "transferred\n"
     ]
    }
   ],
   "source": [
    "transfer(\"x\", \"y\", 1)"
   ]
  },
  {
   "cell_type": "code",
   "execution_count": null,
   "id": "8a324d7d-8e49-429d-b861-738a20be1b23",
   "metadata": {},
   "outputs": [],
   "source": []
  }
 ],
 "metadata": {
  "kernelspec": {
   "display_name": "Python 3 (ipykernel)",
   "language": "python",
   "name": "python3"
  },
  "language_info": {
   "codemirror_mode": {
    "name": "ipython",
    "version": 3
   },
   "file_extension": ".py",
   "mimetype": "text/x-python",
   "name": "python",
   "nbconvert_exporter": "python",
   "pygments_lexer": "ipython3",
   "version": "3.10.6"
  }
 },
 "nbformat": 4,
 "nbformat_minor": 5
}
