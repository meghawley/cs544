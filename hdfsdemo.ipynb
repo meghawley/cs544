{
 "cells": [
  {
   "cell_type": "code",
   "execution_count": 1,
   "id": "21c8167d-251d-4640-bd42-1d7ceac6a72c",
   "metadata": {},
   "outputs": [],
   "source": [
    "import requests"
   ]
  },
  {
   "cell_type": "code",
   "execution_count": null,
   "id": "3c782fa6-4722-4d54-bc65-00a3025bf918",
   "metadata": {},
   "outputs": [],
   "source": [
    "!hostname"
   ]
  },
  {
   "cell_type": "code",
   "execution_count": null,
   "id": "8467fd22-e4da-4f04-b09f-5eaf41b156b1",
   "metadata": {},
   "outputs": [],
   "source": [
    "! curl -i  \"http://fcd3336bc971:9870/webhdfs/v1/data?op=LISTSTATUS\""
   ]
  },
  {
   "cell_type": "code",
   "execution_count": null,
   "id": "f0bd4568-0fcb-4531-85d1-5a1e4e1c49ea",
   "metadata": {},
   "outputs": [],
   "source": [
    "\n",
    "resp = requests.get(\"http://fcd3336bc971:9870/webhdfs/v1/data?op=LISTSTATUS\")"
   ]
  },
  {
   "cell_type": "code",
   "execution_count": null,
   "id": "bad0adc4-7ac2-42da-ae7f-b5d815d10b2f",
   "metadata": {},
   "outputs": [],
   "source": [
    "\n",
    "print(resp.status_code)\n",
    "resp.raise_for_status() # give me an exception if it wasn't 200"
   ]
  },
  {
   "cell_type": "code",
   "execution_count": null,
   "id": "28c3a7eb-b6a7-460e-8a1f-faced08a6645",
   "metadata": {},
   "outputs": [],
   "source": [
    "resp.headers"
   ]
  },
  {
   "cell_type": "code",
   "execution_count": null,
   "id": "65f25663-befd-49d2-92ef-7540f7b6b7b8",
   "metadata": {},
   "outputs": [],
   "source": [
    "resp.content  # give be the body as bytpes"
   ]
  },
  {
   "cell_type": "code",
   "execution_count": null,
   "id": "268ff7c1-83b3-45e3-a118-6792f9a62581",
   "metadata": {},
   "outputs": [],
   "source": [
    "resp.text"
   ]
  },
  {
   "cell_type": "code",
   "execution_count": null,
   "id": "fffcd534-2ccf-4785-b094-b05fe384dcf1",
   "metadata": {},
   "outputs": [],
   "source": [
    "data = resp.json()\n",
    "data"
   ]
  },
  {
   "cell_type": "code",
   "execution_count": null,
   "id": "e7ed751c-422a-48fb-9ace-89754d01c354",
   "metadata": {},
   "outputs": [],
   "source": [
    "for item in data[\"FileStatuses\"][\"FileStatus\"]:\n",
    "    print(item[\"type\"], item[\"pathSuffix\"], item[\"replication\"])"
   ]
  },
  {
   "cell_type": "code",
   "execution_count": null,
   "id": "5ca70498-111f-4793-98f0-06690d5f7bad",
   "metadata": {},
   "outputs": [],
   "source": [
    "! curl -i \"http://fcd3336bc971:9870/webhdfs/v1/data/README.txt?op=OPEN&offset=0&length=1000\""
   ]
  },
  {
   "cell_type": "code",
   "execution_count": null,
   "id": "b299f72e-bd0a-4e06-b3a3-a5b2eced4002",
   "metadata": {},
   "outputs": [],
   "source": [
    "url = \"http://fcd3336bc971:9870/webhdfs/v1/data/README.txt?op=OPEN&offset=0&length=1000\"\n",
    "resp = requests.get(url, allow_redirects=False)"
   ]
  },
  {
   "cell_type": "code",
   "execution_count": null,
   "id": "b3a87a07-c957-43db-b09f-068c16dec792",
   "metadata": {},
   "outputs": [],
   "source": [
    "resp.headers[\"Location\"]"
   ]
  },
  {
   "cell_type": "code",
   "execution_count": null,
   "id": "3498a1c0-9ccb-4804-ad7a-af06cf725e13",
   "metadata": {},
   "outputs": [],
   "source": [
    "resp = requests.get('http://fcd3336bc971:9864/webhdfs/v1/data/README.txt?op=OPEN&namenoderpcaddress=fcd3336bc971:9000&length=1000&offset=0')"
   ]
  },
  {
   "cell_type": "code",
   "execution_count": null,
   "id": "e6388cf5-722a-472b-a29c-727f3d9f7567",
   "metadata": {},
   "outputs": [],
   "source": [
    "resp.content"
   ]
  },
  {
   "cell_type": "code",
   "execution_count": null,
   "id": "8781f0fb-81c4-420d-ae75-1132aa225ed9",
   "metadata": {},
   "outputs": [],
   "source": [
    "!touch test.txt"
   ]
  },
  {
   "cell_type": "code",
   "execution_count": null,
   "id": "40c0e1e1-1f55-478a-9965-5df77e2b2bb3",
   "metadata": {},
   "outputs": [],
   "source": [
    "f = open(\"test.txt\")"
   ]
  },
  {
   "cell_type": "code",
   "execution_count": null,
   "id": "fd8cf0e5-bf44-47ae-849d-6ba96f2a2b70",
   "metadata": {},
   "outputs": [],
   "source": [
    "type(f)    # converting bytes to strings"
   ]
  },
  {
   "cell_type": "code",
   "execution_count": null,
   "id": "aec9cdce-ac42-4614-9f90-24427fc06b65",
   "metadata": {},
   "outputs": [],
   "source": [
    "type(f.buffer)    # buffering: using memory to do larger reads/writes"
   ]
  },
  {
   "cell_type": "code",
   "execution_count": null,
   "id": "fa40cd6e-adbe-4041-a609-ab988b23a51d",
   "metadata": {},
   "outputs": [],
   "source": [
    "type(f.buffer.raw)    # actually about transferring the bytes"
   ]
  },
  {
   "cell_type": "code",
   "execution_count": null,
   "id": "4cdee63f-8c21-4efb-bfc2-dc8d8bf1c401",
   "metadata": {},
   "outputs": [],
   "source": [
    "type(f.buffer.raw).__mro__"
   ]
  },
  {
   "cell_type": "code",
   "execution_count": null,
   "id": "84e081a4-41c9-498f-a5d5-825230666164",
   "metadata": {},
   "outputs": [],
   "source": [
    "# DEMO: create a fake \"file\" that lets us read numbers 100 to 110"
   ]
  },
  {
   "cell_type": "code",
   "execution_count": null,
   "id": "94231f71-a0fe-4f26-8428-0276f800a01b",
   "metadata": {},
   "outputs": [],
   "source": [
    "import io\n",
    "\n",
    "# GOAL:\n",
    "# f = io.TextIOWrapper(io.BufferedReader(IntFile()))   # get \"100\", ..."
   ]
  },
  {
   "cell_type": "code",
   "execution_count": null,
   "id": "865525ad-c9d4-4e8f-ba38-d664d1cde82e",
   "metadata": {},
   "outputs": [],
   "source": [
    "class IntFile(io.RawIOBase):\n",
    "    def __init__(self):\n",
    "        self.num = 100\n",
    "        \n",
    "    def readable(self):\n",
    "        return True\n",
    "    \n",
    "    def readinto(self, buffer):\n",
    "        print(\"TODO\", type(buffer), len(buffer))\n",
    "        offset = 0\n",
    "        while self.num <= 110:\n",
    "            text = bytes(str(self.num) + \"\\n\", \"utf-8\")\n",
    "            if offset + len(text) < len(buffer):\n",
    "                buffer[offset:offset+len(text)] = text\n",
    "                self.num += 1\n",
    "                offset += len(text)\n",
    "            else:\n",
    "                break\n",
    "        return offset"
   ]
  },
  {
   "cell_type": "code",
   "execution_count": null,
   "id": "082e46c1-3540-4385-8af3-72bb8e623f35",
   "metadata": {},
   "outputs": [],
   "source": [
    "# usage 1: raw I/O\n",
    "f = IntFile()\n",
    "buf = bytearray(50)\n",
    "f.readinto(buf)\n",
    "buf"
   ]
  },
  {
   "cell_type": "code",
   "execution_count": null,
   "id": "49a50d6d-d5ea-49e6-8837-bcd532cc1356",
   "metadata": {},
   "outputs": [],
   "source": [
    "# usage 2: buffered I/O that gives us one line at time\n",
    "f = io.BufferedReader(IntFile())\n",
    "for line in f:\n",
    "    print(line)"
   ]
  },
  {
   "cell_type": "code",
   "execution_count": null,
   "id": "3f1f323d-2770-4d75-952b-9164c71abc63",
   "metadata": {},
   "outputs": [],
   "source": [
    "# usage 3: buffered I/O that gives us one line at time, as text\n",
    "f = io.TextIOWrapper(io.BufferedReader(IntFile()))\n",
    "for line in f:\n",
    "    print(line)"
   ]
  },
  {
   "cell_type": "code",
   "execution_count": null,
   "id": "bf964942-ee32-4a92-9770-786ea1ad6c4c",
   "metadata": {},
   "outputs": [],
   "source": [
    "b = b'abc'\n",
    "print(type(b))\n",
    "b"
   ]
  },
  {
   "cell_type": "code",
   "execution_count": null,
   "id": "ef16ad6e-1c75-4590-9874-7156727fc423",
   "metadata": {},
   "outputs": [],
   "source": [
    "# b[0] = \"z\"    # bytes are immutable"
   ]
  },
  {
   "cell_type": "code",
   "execution_count": null,
   "id": "e3791aa0-52a3-4383-a06f-39ce37d1bba2",
   "metadata": {},
   "outputs": [],
   "source": [
    "buf = bytearray(50)\n",
    "buf"
   ]
  },
  {
   "cell_type": "code",
   "execution_count": null,
   "id": "47c5dfa7-5f2b-4e88-b010-11987070ac0b",
   "metadata": {},
   "outputs": [],
   "source": [
    "buf[0] = 65"
   ]
  },
  {
   "cell_type": "code",
   "execution_count": null,
   "id": "b16786d5-40ed-41a2-83f7-44d09178c562",
   "metadata": {},
   "outputs": [],
   "source": [
    "buf"
   ]
  }
 ],
 "metadata": {
  "kernelspec": {
   "display_name": "Python 3 (ipykernel)",
   "language": "python",
   "name": "python3"
  },
  "language_info": {
   "codemirror_mode": {
    "name": "ipython",
    "version": 3
   },
   "file_extension": ".py",
   "mimetype": "text/x-python",
   "name": "python",
   "nbconvert_exporter": "python",
   "pygments_lexer": "ipython3",
   "version": "3.10.6"
  }
 },
 "nbformat": 4,
 "nbformat_minor": 5
}
