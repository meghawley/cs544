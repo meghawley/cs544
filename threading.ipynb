{
 "cells": [
  {
   "cell_type": "code",
   "execution_count": 1,
   "id": "8bfdcdec-8583-4ead-8240-01e108230235",
   "metadata": {},
   "outputs": [],
   "source": [
    "import threading"
   ]
  },
  {
   "cell_type": "code",
   "execution_count": 5,
   "id": "235b050d-ea7c-4114-88d2-2feeca6e20a9",
   "metadata": {},
   "outputs": [
    {
     "name": "stdout",
     "output_type": "stream",
     "text": [
      "yomain 851408\n",
      " 851481\n"
     ]
    }
   ],
   "source": [
    "def task():\n",
    "    print('yo',threading.get_native_id())\n",
    "      \n",
    "t = threading.Thread(target=task)\n",
    "t.start()\n",
    "\n",
    "print('main',threading.get_native_id())"
   ]
  },
  {
   "cell_type": "code",
   "execution_count": 10,
   "id": "cbace060-9053-44ce-87d7-7b3631d987c2",
   "metadata": {},
   "outputs": [
    {
     "data": {
      "text/plain": [
       "10"
      ]
     },
     "execution_count": 10,
     "metadata": {},
     "output_type": "execute_result"
    }
   ],
   "source": [
    "total = 0\n",
    "\n",
    "def adder(count):\n",
    "    global total\n",
    "    for i in range(count):\n",
    "        total += i\n",
    "    \n",
    "t = threading.Thread(target=adder,args=[5])\n",
    "t.start()\n",
    "t.join() #wait to stop racing error\n",
    "\n",
    "total"
   ]
  },
  {
   "cell_type": "code",
   "execution_count": null,
   "id": "badaa293-8073-4c2a-9296-b8941afd8442",
   "metadata": {},
   "outputs": [],
   "source": []
  }
 ],
 "metadata": {
  "kernelspec": {
   "display_name": "Python 3 (ipykernel)",
   "language": "python",
   "name": "python3"
  },
  "language_info": {
   "codemirror_mode": {
    "name": "ipython",
    "version": 3
   },
   "file_extension": ".py",
   "mimetype": "text/x-python",
   "name": "python",
   "nbconvert_exporter": "python",
   "pygments_lexer": "ipython3",
   "version": "3.10.6"
  }
 },
 "nbformat": 4,
 "nbformat_minor": 5
}
