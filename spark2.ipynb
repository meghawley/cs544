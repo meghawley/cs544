{
 "cells": [
  {
   "cell_type": "code",
   "execution_count": 2,
   "id": "5a4c0d6b-7564-423b-aaf2-d2b823411534",
   "metadata": {},
   "outputs": [
    {
     "data": {
      "text/plain": [
       "450.0"
      ]
     },
     "execution_count": 2,
     "metadata": {},
     "output_type": "execute_result"
    }
   ],
   "source": [
    "471859200 / 1024 / 1024 # need 450 MB minimum"
   ]
  },
  {
   "cell_type": "code",
   "execution_count": 3,
   "id": "ab82db8b-d136-42bb-8a84-c3b462c2cb00",
   "metadata": {},
   "outputs": [
    {
     "name": "stderr",
     "output_type": "stream",
     "text": [
      "23/03/08 16:11:10 WARN SparkContext: Another SparkContext is being constructed (or threw an exception in its constructor). This may indicate an error, since only one SparkContext should be running in this JVM (see SPARK-2243). The other SparkContext was created at:\n",
      "org.apache.spark.api.java.JavaSparkContext.<init>(JavaSparkContext.scala:58)\n",
      "sun.reflect.NativeConstructorAccessorImpl.newInstance0(Native Method)\n",
      "sun.reflect.NativeConstructorAccessorImpl.newInstance(NativeConstructorAccessorImpl.java:62)\n",
      "sun.reflect.DelegatingConstructorAccessorImpl.newInstance(DelegatingConstructorAccessorImpl.java:45)\n",
      "java.lang.reflect.Constructor.newInstance(Constructor.java:423)\n",
      "py4j.reflection.MethodInvoker.invoke(MethodInvoker.java:247)\n",
      "py4j.reflection.ReflectionEngine.invoke(ReflectionEngine.java:357)\n",
      "py4j.Gateway.invoke(Gateway.java:238)\n",
      "py4j.commands.ConstructorCommand.invokeConstructor(ConstructorCommand.java:80)\n",
      "py4j.commands.ConstructorCommand.execute(ConstructorCommand.java:69)\n",
      "py4j.ClientServerConnection.waitForCommands(ClientServerConnection.java:182)\n",
      "py4j.ClientServerConnection.run(ClientServerConnection.java:106)\n",
      "java.lang.Thread.run(Thread.java:750)\n"
     ]
    }
   ],
   "source": [
    "from pyspark.sql import SparkSession\n",
    "spark = (SparkSession.builder.appName(\"cs544\")\n",
    "         .master(\"spark://main:7077\")\n",
    "         .config(\"spark.executor.memory\", \"512M\")\n",
    "         .config(\"spark.sql.warehouse.dir\", \"hdfs://main:9000/user/hive/warehouse\")\n",
    "         .enableHiveSupport()\n",
    "         .getOrCreate())"
   ]
  },
  {
   "cell_type": "code",
   "execution_count": 4,
   "id": "99d2c3b9-6488-409c-a21d-19e386fa726e",
   "metadata": {},
   "outputs": [],
   "source": [
    "# spark context is for working directly with RDDs (we won't do that today)\n",
    "sc = spark.sparkContext"
   ]
  },
  {
   "cell_type": "code",
   "execution_count": 5,
   "id": "ba340991-4e18-432a-baa1-795d01f1e5b0",
   "metadata": {},
   "outputs": [
    {
     "data": {
      "text/plain": [
       "<pyspark.sql.readwriter.DataFrameReader at 0x7f501f2c0070>"
      ]
     },
     "execution_count": 5,
     "metadata": {},
     "output_type": "execute_result"
    }
   ],
   "source": [
    "# TO READ:\n",
    "# spark.read.call.another_call...load(path)\n",
    "# df.write.call.another_call...save(path)"
   ]
  },
  {
   "cell_type": "code",
   "execution_count": 9,
   "id": "8a60dd35-3a9b-454b-9851-40b096a59553",
   "metadata": {},
   "outputs": [],
   "source": [
    "!hdfs dfs -cp sf.csv hdfs://main:9000/sf.csv"
   ]
  },
  {
   "cell_type": "code",
   "execution_count": 18,
   "id": "bb83fc9f-dab4-44e0-abcb-9bac05430ec9",
   "metadata": {},
   "outputs": [
    {
     "name": "stderr",
     "output_type": "stream",
     "text": [
      "                                                                                \r"
     ]
    }
   ],
   "source": [
    "df = (spark.read.format(\"csv\")\n",
    "    .option(\"header\", True)\n",
    "    .option(\"inferSchema\", True)\n",
    "    .load(\"hdfs://main:9000/sf.csv\"))"
   ]
  },
  {
   "cell_type": "code",
   "execution_count": 20,
   "id": "b5935330-3842-4045-b515-0f6b57769da5",
   "metadata": {},
   "outputs": [
    {
     "name": "stderr",
     "output_type": "stream",
     "text": [
      "                                                                                \r"
     ]
    },
    {
     "data": {
      "text/plain": [
       "6016056"
      ]
     },
     "execution_count": 20,
     "metadata": {},
     "output_type": "execute_result"
    }
   ],
   "source": [
    "df.count()"
   ]
  },
  {
   "cell_type": "code",
   "execution_count": 19,
   "id": "4d2c748a-a945-434d-b4b0-00ef35ad44a3",
   "metadata": {},
   "outputs": [
    {
     "data": {
      "text/plain": [
       "[('Call Number', 'int'),\n",
       " ('Unit ID', 'string'),\n",
       " ('Incident Number', 'int'),\n",
       " ('Call Type', 'string'),\n",
       " ('Call Date', 'string'),\n",
       " ('Watch Date', 'string'),\n",
       " ('Received DtTm', 'string'),\n",
       " ('Entry DtTm', 'string'),\n",
       " ('Dispatch DtTm', 'string'),\n",
       " ('Response DtTm', 'string'),\n",
       " ('On Scene DtTm', 'string'),\n",
       " ('Transport DtTm', 'string'),\n",
       " ('Hospital DtTm', 'string'),\n",
       " ('Call Final Disposition', 'string'),\n",
       " ('Available DtTm', 'string'),\n",
       " ('Address', 'string'),\n",
       " ('City', 'string'),\n",
       " ('Zipcode of Incident', 'int'),\n",
       " ('Battalion', 'string'),\n",
       " ('Station Area', 'string'),\n",
       " ('Box', 'string'),\n",
       " ('Original Priority', 'string'),\n",
       " ('Priority', 'string'),\n",
       " ('Final Priority', 'int'),\n",
       " ('ALS Unit', 'boolean'),\n",
       " ('Call Type Group', 'string'),\n",
       " ('Number of Alarms', 'int'),\n",
       " ('Unit Type', 'string'),\n",
       " ('Unit sequence in call dispatch', 'int'),\n",
       " ('Fire Prevention District', 'string'),\n",
       " ('Supervisor District', 'string'),\n",
       " ('Neighborhooods - Analysis Boundaries', 'string'),\n",
       " ('RowID', 'string'),\n",
       " ('case_location', 'string'),\n",
       " ('Analysis Neighborhoods', 'int')]"
      ]
     },
     "execution_count": 19,
     "metadata": {},
     "output_type": "execute_result"
    }
   ],
   "source": [
    "df.dtypes"
   ]
  },
  {
   "cell_type": "code",
   "execution_count": 21,
   "id": "afc87924-e3a8-4125-bc52-38c73574970d",
   "metadata": {},
   "outputs": [
    {
     "data": {
      "text/html": [
       "<div>\n",
       "<style scoped>\n",
       "    .dataframe tbody tr th:only-of-type {\n",
       "        vertical-align: middle;\n",
       "    }\n",
       "\n",
       "    .dataframe tbody tr th {\n",
       "        vertical-align: top;\n",
       "    }\n",
       "\n",
       "    .dataframe thead th {\n",
       "        text-align: right;\n",
       "    }\n",
       "</style>\n",
       "<table border=\"1\" class=\"dataframe\">\n",
       "  <thead>\n",
       "    <tr style=\"text-align: right;\">\n",
       "      <th></th>\n",
       "      <th>Call Number</th>\n",
       "      <th>Unit ID</th>\n",
       "      <th>Incident Number</th>\n",
       "      <th>Call Type</th>\n",
       "      <th>Call Date</th>\n",
       "      <th>Watch Date</th>\n",
       "      <th>Received DtTm</th>\n",
       "      <th>Entry DtTm</th>\n",
       "      <th>Dispatch DtTm</th>\n",
       "      <th>Response DtTm</th>\n",
       "      <th>...</th>\n",
       "      <th>Call Type Group</th>\n",
       "      <th>Number of Alarms</th>\n",
       "      <th>Unit Type</th>\n",
       "      <th>Unit sequence in call dispatch</th>\n",
       "      <th>Fire Prevention District</th>\n",
       "      <th>Supervisor District</th>\n",
       "      <th>Neighborhooods - Analysis Boundaries</th>\n",
       "      <th>RowID</th>\n",
       "      <th>case_location</th>\n",
       "      <th>Analysis Neighborhoods</th>\n",
       "    </tr>\n",
       "  </thead>\n",
       "  <tbody>\n",
       "    <tr>\n",
       "      <th>0</th>\n",
       "      <td>221210313</td>\n",
       "      <td>E36</td>\n",
       "      <td>22054955</td>\n",
       "      <td>Outside Fire</td>\n",
       "      <td>05/01/2022</td>\n",
       "      <td>04/30/2022</td>\n",
       "      <td>05/01/2022 02:58:25 AM</td>\n",
       "      <td>05/01/2022 02:59:15 AM</td>\n",
       "      <td>05/01/2022 02:59:25 AM</td>\n",
       "      <td>05/01/2022 03:01:06 AM</td>\n",
       "      <td>...</td>\n",
       "      <td>Fire</td>\n",
       "      <td>1</td>\n",
       "      <td>ENGINE</td>\n",
       "      <td>1</td>\n",
       "      <td>2</td>\n",
       "      <td>5</td>\n",
       "      <td>Hayes Valley</td>\n",
       "      <td>221210313-E36</td>\n",
       "      <td>POINT (-122.42316555403964 37.77781524520032)</td>\n",
       "      <td>9</td>\n",
       "    </tr>\n",
       "    <tr>\n",
       "      <th>1</th>\n",
       "      <td>220190150</td>\n",
       "      <td>E29</td>\n",
       "      <td>22008871</td>\n",
       "      <td>Alarms</td>\n",
       "      <td>01/19/2022</td>\n",
       "      <td>01/18/2022</td>\n",
       "      <td>01/19/2022 01:42:12 AM</td>\n",
       "      <td>01/19/2022 01:44:13 AM</td>\n",
       "      <td>01/19/2022 01:44:28 AM</td>\n",
       "      <td>01/19/2022 01:46:47 AM</td>\n",
       "      <td>...</td>\n",
       "      <td>Alarm</td>\n",
       "      <td>1</td>\n",
       "      <td>ENGINE</td>\n",
       "      <td>1</td>\n",
       "      <td>3</td>\n",
       "      <td>10</td>\n",
       "      <td>Potrero Hill</td>\n",
       "      <td>220190150-E29</td>\n",
       "      <td>POINT (-122.39469970274361 37.76460987856451)</td>\n",
       "      <td>26</td>\n",
       "    </tr>\n",
       "    <tr>\n",
       "      <th>2</th>\n",
       "      <td>211233271</td>\n",
       "      <td>T07</td>\n",
       "      <td>21053032</td>\n",
       "      <td>Alarms</td>\n",
       "      <td>05/03/2021</td>\n",
       "      <td>05/03/2021</td>\n",
       "      <td>05/03/2021 09:28:12 PM</td>\n",
       "      <td>05/03/2021 09:28:12 PM</td>\n",
       "      <td>05/03/2021 09:28:17 PM</td>\n",
       "      <td>05/03/2021 09:29:10 PM</td>\n",
       "      <td>...</td>\n",
       "      <td>Alarm</td>\n",
       "      <td>1</td>\n",
       "      <td>TRUCK</td>\n",
       "      <td>2</td>\n",
       "      <td>2</td>\n",
       "      <td>9</td>\n",
       "      <td>Mission</td>\n",
       "      <td>211233271-T07</td>\n",
       "      <td>POINT (-122.42057572093252 37.76418194637148)</td>\n",
       "      <td>20</td>\n",
       "    </tr>\n",
       "    <tr>\n",
       "      <th>3</th>\n",
       "      <td>212933533</td>\n",
       "      <td>B02</td>\n",
       "      <td>21127914</td>\n",
       "      <td>Alarms</td>\n",
       "      <td>10/20/2021</td>\n",
       "      <td>10/20/2021</td>\n",
       "      <td>10/20/2021 10:08:47 PM</td>\n",
       "      <td>10/20/2021 10:09:53 PM</td>\n",
       "      <td>10/20/2021 10:10:07 PM</td>\n",
       "      <td>10/20/2021 10:11:55 PM</td>\n",
       "      <td>...</td>\n",
       "      <td>Alarm</td>\n",
       "      <td>1</td>\n",
       "      <td>CHIEF</td>\n",
       "      <td>3</td>\n",
       "      <td>3</td>\n",
       "      <td>6</td>\n",
       "      <td>Tenderloin</td>\n",
       "      <td>212933533-B02</td>\n",
       "      <td>POINT (-122.41243514072728 37.78347684038771)</td>\n",
       "      <td>36</td>\n",
       "    </tr>\n",
       "    <tr>\n",
       "      <th>4</th>\n",
       "      <td>221202543</td>\n",
       "      <td>E41</td>\n",
       "      <td>22054815</td>\n",
       "      <td>Alarms</td>\n",
       "      <td>04/30/2022</td>\n",
       "      <td>04/30/2022</td>\n",
       "      <td>04/30/2022 06:35:58 PM</td>\n",
       "      <td>04/30/2022 06:37:28 PM</td>\n",
       "      <td>04/30/2022 06:37:43 PM</td>\n",
       "      <td>04/30/2022 06:38:17 PM</td>\n",
       "      <td>...</td>\n",
       "      <td>Alarm</td>\n",
       "      <td>1</td>\n",
       "      <td>ENGINE</td>\n",
       "      <td>4</td>\n",
       "      <td>4</td>\n",
       "      <td>2</td>\n",
       "      <td>Russian Hill</td>\n",
       "      <td>221202543-E41</td>\n",
       "      <td>POINT (-122.4233369425531 37.799534868680034)</td>\n",
       "      <td>32</td>\n",
       "    </tr>\n",
       "    <tr>\n",
       "      <th>5</th>\n",
       "      <td>211232439</td>\n",
       "      <td>B01</td>\n",
       "      <td>21052945</td>\n",
       "      <td>Alarms</td>\n",
       "      <td>05/03/2021</td>\n",
       "      <td>05/03/2021</td>\n",
       "      <td>05/03/2021 04:57:21 PM</td>\n",
       "      <td>05/03/2021 04:58:39 PM</td>\n",
       "      <td>05/03/2021 04:58:44 PM</td>\n",
       "      <td>05/03/2021 05:00:27 PM</td>\n",
       "      <td>...</td>\n",
       "      <td>Alarm</td>\n",
       "      <td>1</td>\n",
       "      <td>CHIEF</td>\n",
       "      <td>2</td>\n",
       "      <td>1</td>\n",
       "      <td>6</td>\n",
       "      <td>Tenderloin</td>\n",
       "      <td>211232439-B01</td>\n",
       "      <td>POINT (-122.41299723589606 37.78626844171642)</td>\n",
       "      <td>36</td>\n",
       "    </tr>\n",
       "    <tr>\n",
       "      <th>6</th>\n",
       "      <td>211942517</td>\n",
       "      <td>T03</td>\n",
       "      <td>21083057</td>\n",
       "      <td>Alarms</td>\n",
       "      <td>07/13/2021</td>\n",
       "      <td>07/13/2021</td>\n",
       "      <td>07/13/2021 04:50:10 PM</td>\n",
       "      <td>07/13/2021 04:51:07 PM</td>\n",
       "      <td>07/13/2021 04:51:17 PM</td>\n",
       "      <td>None</td>\n",
       "      <td>...</td>\n",
       "      <td>Alarm</td>\n",
       "      <td>1</td>\n",
       "      <td>TRUCK</td>\n",
       "      <td>3</td>\n",
       "      <td>2</td>\n",
       "      <td>6</td>\n",
       "      <td>Tenderloin</td>\n",
       "      <td>211942517-T03</td>\n",
       "      <td>POINT (-122.42090696864193 37.784067668377766)</td>\n",
       "      <td>36</td>\n",
       "    </tr>\n",
       "    <tr>\n",
       "      <th>7</th>\n",
       "      <td>212932758</td>\n",
       "      <td>B01</td>\n",
       "      <td>21127810</td>\n",
       "      <td>Alarms</td>\n",
       "      <td>10/20/2021</td>\n",
       "      <td>10/20/2021</td>\n",
       "      <td>10/20/2021 05:46:09 PM</td>\n",
       "      <td>10/20/2021 05:47:57 PM</td>\n",
       "      <td>10/20/2021 05:48:05 PM</td>\n",
       "      <td>10/20/2021 05:49:54 PM</td>\n",
       "      <td>...</td>\n",
       "      <td>Alarm</td>\n",
       "      <td>1</td>\n",
       "      <td>CHIEF</td>\n",
       "      <td>2</td>\n",
       "      <td>1</td>\n",
       "      <td>3</td>\n",
       "      <td>North Beach</td>\n",
       "      <td>212932758-B01</td>\n",
       "      <td>POINT (-122.40987728293031 37.808050096906186)</td>\n",
       "      <td>23</td>\n",
       "    </tr>\n",
       "    <tr>\n",
       "      <th>8</th>\n",
       "      <td>221201816</td>\n",
       "      <td>T03</td>\n",
       "      <td>22054719</td>\n",
       "      <td>Structure Fire</td>\n",
       "      <td>04/30/2022</td>\n",
       "      <td>04/30/2022</td>\n",
       "      <td>04/30/2022 02:27:39 PM</td>\n",
       "      <td>04/30/2022 02:28:53 PM</td>\n",
       "      <td>04/30/2022 02:29:13 PM</td>\n",
       "      <td>04/30/2022 02:31:58 PM</td>\n",
       "      <td>...</td>\n",
       "      <td>Alarm</td>\n",
       "      <td>1</td>\n",
       "      <td>TRUCK</td>\n",
       "      <td>3</td>\n",
       "      <td>2</td>\n",
       "      <td>6</td>\n",
       "      <td>South of Market</td>\n",
       "      <td>221201816-T03</td>\n",
       "      <td>POINT (-122.41471100467277 37.77623051778801)</td>\n",
       "      <td>34</td>\n",
       "    </tr>\n",
       "    <tr>\n",
       "      <th>9</th>\n",
       "      <td>211941580</td>\n",
       "      <td>SCRT4</td>\n",
       "      <td>21082970</td>\n",
       "      <td>Medical Incident</td>\n",
       "      <td>07/13/2021</td>\n",
       "      <td>07/13/2021</td>\n",
       "      <td>07/13/2021 12:23:31 PM</td>\n",
       "      <td>07/13/2021 12:28:02 PM</td>\n",
       "      <td>07/13/2021 12:47:21 PM</td>\n",
       "      <td>07/13/2021 12:47:21 PM</td>\n",
       "      <td>...</td>\n",
       "      <td>Non Life-threatening</td>\n",
       "      <td>1</td>\n",
       "      <td>SUPPORT</td>\n",
       "      <td>1</td>\n",
       "      <td>8</td>\n",
       "      <td>7</td>\n",
       "      <td>West of Twin Peaks</td>\n",
       "      <td>211941580-SCRT4</td>\n",
       "      <td>POINT (-122.46750730609165 37.73983589352891)</td>\n",
       "      <td>41</td>\n",
       "    </tr>\n",
       "  </tbody>\n",
       "</table>\n",
       "<p>10 rows × 35 columns</p>\n",
       "</div>"
      ],
      "text/plain": [
       "   Call Number Unit ID  Incident Number         Call Type   Call Date  \\\n",
       "0    221210313     E36         22054955      Outside Fire  05/01/2022   \n",
       "1    220190150     E29         22008871            Alarms  01/19/2022   \n",
       "2    211233271     T07         21053032            Alarms  05/03/2021   \n",
       "3    212933533     B02         21127914            Alarms  10/20/2021   \n",
       "4    221202543     E41         22054815            Alarms  04/30/2022   \n",
       "5    211232439     B01         21052945            Alarms  05/03/2021   \n",
       "6    211942517     T03         21083057            Alarms  07/13/2021   \n",
       "7    212932758     B01         21127810            Alarms  10/20/2021   \n",
       "8    221201816     T03         22054719    Structure Fire  04/30/2022   \n",
       "9    211941580   SCRT4         21082970  Medical Incident  07/13/2021   \n",
       "\n",
       "   Watch Date           Received DtTm              Entry DtTm  \\\n",
       "0  04/30/2022  05/01/2022 02:58:25 AM  05/01/2022 02:59:15 AM   \n",
       "1  01/18/2022  01/19/2022 01:42:12 AM  01/19/2022 01:44:13 AM   \n",
       "2  05/03/2021  05/03/2021 09:28:12 PM  05/03/2021 09:28:12 PM   \n",
       "3  10/20/2021  10/20/2021 10:08:47 PM  10/20/2021 10:09:53 PM   \n",
       "4  04/30/2022  04/30/2022 06:35:58 PM  04/30/2022 06:37:28 PM   \n",
       "5  05/03/2021  05/03/2021 04:57:21 PM  05/03/2021 04:58:39 PM   \n",
       "6  07/13/2021  07/13/2021 04:50:10 PM  07/13/2021 04:51:07 PM   \n",
       "7  10/20/2021  10/20/2021 05:46:09 PM  10/20/2021 05:47:57 PM   \n",
       "8  04/30/2022  04/30/2022 02:27:39 PM  04/30/2022 02:28:53 PM   \n",
       "9  07/13/2021  07/13/2021 12:23:31 PM  07/13/2021 12:28:02 PM   \n",
       "\n",
       "            Dispatch DtTm           Response DtTm  ...       Call Type Group  \\\n",
       "0  05/01/2022 02:59:25 AM  05/01/2022 03:01:06 AM  ...                  Fire   \n",
       "1  01/19/2022 01:44:28 AM  01/19/2022 01:46:47 AM  ...                 Alarm   \n",
       "2  05/03/2021 09:28:17 PM  05/03/2021 09:29:10 PM  ...                 Alarm   \n",
       "3  10/20/2021 10:10:07 PM  10/20/2021 10:11:55 PM  ...                 Alarm   \n",
       "4  04/30/2022 06:37:43 PM  04/30/2022 06:38:17 PM  ...                 Alarm   \n",
       "5  05/03/2021 04:58:44 PM  05/03/2021 05:00:27 PM  ...                 Alarm   \n",
       "6  07/13/2021 04:51:17 PM                    None  ...                 Alarm   \n",
       "7  10/20/2021 05:48:05 PM  10/20/2021 05:49:54 PM  ...                 Alarm   \n",
       "8  04/30/2022 02:29:13 PM  04/30/2022 02:31:58 PM  ...                 Alarm   \n",
       "9  07/13/2021 12:47:21 PM  07/13/2021 12:47:21 PM  ...  Non Life-threatening   \n",
       "\n",
       "  Number of Alarms Unit Type Unit sequence in call dispatch  \\\n",
       "0                1    ENGINE                              1   \n",
       "1                1    ENGINE                              1   \n",
       "2                1     TRUCK                              2   \n",
       "3                1     CHIEF                              3   \n",
       "4                1    ENGINE                              4   \n",
       "5                1     CHIEF                              2   \n",
       "6                1     TRUCK                              3   \n",
       "7                1     CHIEF                              2   \n",
       "8                1     TRUCK                              3   \n",
       "9                1   SUPPORT                              1   \n",
       "\n",
       "  Fire Prevention District Supervisor District  \\\n",
       "0                        2                   5   \n",
       "1                        3                  10   \n",
       "2                        2                   9   \n",
       "3                        3                   6   \n",
       "4                        4                   2   \n",
       "5                        1                   6   \n",
       "6                        2                   6   \n",
       "7                        1                   3   \n",
       "8                        2                   6   \n",
       "9                        8                   7   \n",
       "\n",
       "  Neighborhooods - Analysis Boundaries            RowID  \\\n",
       "0                         Hayes Valley    221210313-E36   \n",
       "1                         Potrero Hill    220190150-E29   \n",
       "2                              Mission    211233271-T07   \n",
       "3                           Tenderloin    212933533-B02   \n",
       "4                         Russian Hill    221202543-E41   \n",
       "5                           Tenderloin    211232439-B01   \n",
       "6                           Tenderloin    211942517-T03   \n",
       "7                          North Beach    212932758-B01   \n",
       "8                      South of Market    221201816-T03   \n",
       "9                   West of Twin Peaks  211941580-SCRT4   \n",
       "\n",
       "                                    case_location Analysis Neighborhoods  \n",
       "0   POINT (-122.42316555403964 37.77781524520032)                      9  \n",
       "1   POINT (-122.39469970274361 37.76460987856451)                     26  \n",
       "2   POINT (-122.42057572093252 37.76418194637148)                     20  \n",
       "3   POINT (-122.41243514072728 37.78347684038771)                     36  \n",
       "4   POINT (-122.4233369425531 37.799534868680034)                     32  \n",
       "5   POINT (-122.41299723589606 37.78626844171642)                     36  \n",
       "6  POINT (-122.42090696864193 37.784067668377766)                     36  \n",
       "7  POINT (-122.40987728293031 37.808050096906186)                     23  \n",
       "8   POINT (-122.41471100467277 37.77623051778801)                     34  \n",
       "9   POINT (-122.46750730609165 37.73983589352891)                     41  \n",
       "\n",
       "[10 rows x 35 columns]"
      ]
     },
     "execution_count": 21,
     "metadata": {},
     "output_type": "execute_result"
    }
   ],
   "source": [
    "#df.show()\n",
    "# df.toPandas()    # this would run out of memory\n",
    "df.limit(10).toPandas()"
   ]
  },
  {
   "cell_type": "code",
   "execution_count": 22,
   "id": "9ed84f62-ee94-4724-8f50-84105ce08d2b",
   "metadata": {},
   "outputs": [
    {
     "data": {
      "text/plain": [
       "DataFrame[Call Number: int, Unit ID: string, Incident Number: int, Call Type: string, Call Date: string, Watch Date: string, Received DtTm: string, Entry DtTm: string, Dispatch DtTm: string, Response DtTm: string, On Scene DtTm: string, Transport DtTm: string, Hospital DtTm: string, Call Final Disposition: string, Available DtTm: string, Address: string, City: string, Zipcode of Incident: int, Battalion: string, Station Area: string, Box: string, Original Priority: string, Priority: string, Final Priority: int, ALS Unit: boolean, Call Type Group: string, Number of Alarms: int, Unit Type: string, Unit sequence in call dispatch: int, Fire Prevention District: string, Supervisor District: string, Neighborhooods - Analysis Boundaries: string, RowID: string, case_location: string, Analysis Neighborhoods: int]"
      ]
     },
     "execution_count": 22,
     "metadata": {},
     "output_type": "execute_result"
    }
   ],
   "source": [
    "df"
   ]
  },
  {
   "cell_type": "markdown",
   "id": "c5d7d899-a901-4b03-9e49-6deae29c8558",
   "metadata": {},
   "source": [
    "# DataFrame operations"
   ]
  },
  {
   "cell_type": "code",
   "execution_count": 23,
   "id": "e83a8304-b035-46e8-a79f-8a8e7d36b693",
   "metadata": {},
   "outputs": [],
   "source": [
    "from pyspark.sql.functions import col, expr"
   ]
  },
  {
   "cell_type": "code",
   "execution_count": 24,
   "id": "d224d2f6-23fe-41c0-94bb-6ef475239f97",
   "metadata": {},
   "outputs": [
    {
     "data": {
      "text/plain": [
       "Column<'x'>"
      ]
     },
     "execution_count": 24,
     "metadata": {},
     "output_type": "execute_result"
    }
   ],
   "source": [
    "col(\"x\")"
   ]
  },
  {
   "cell_type": "code",
   "execution_count": 25,
   "id": "fc66328a-5caa-4f43-989a-d2764f53fc6d",
   "metadata": {},
   "outputs": [
    {
     "data": {
      "text/plain": [
       "Column<'(x + 1)'>"
      ]
     },
     "execution_count": 25,
     "metadata": {},
     "output_type": "execute_result"
    }
   ],
   "source": [
    "expr(\"x+1\")"
   ]
  },
  {
   "cell_type": "code",
   "execution_count": 26,
   "id": "de9afdc3-ebc1-4db6-8723-b0e5ac15c64e",
   "metadata": {},
   "outputs": [
    {
     "data": {
      "text/plain": [
       "Column<'(x + 1) AS plusone'>"
      ]
     },
     "execution_count": 26,
     "metadata": {},
     "output_type": "execute_result"
    }
   ],
   "source": [
    "expr(\"x+1\").alias(\"plusone\")   # like \"AS\" in SQL"
   ]
  },
  {
   "cell_type": "raw",
   "id": "6acd7e26-7152-4460-b9b2-3f2f0ac4b35a",
   "metadata": {},
   "source": [
    "# limit is non-deterministic\n",
    "df.limit(5).select(col(\"Call Type\"), col(\"Call Date\")).toPandas()"
   ]
  },
  {
   "cell_type": "code",
   "execution_count": 50,
   "id": "8b3bf4c6-3f35-4c57-b4d4-e1a45f3106c2",
   "metadata": {},
   "outputs": [
    {
     "data": {
      "text/html": [
       "<div>\n",
       "<style scoped>\n",
       "    .dataframe tbody tr th:only-of-type {\n",
       "        vertical-align: middle;\n",
       "    }\n",
       "\n",
       "    .dataframe tbody tr th {\n",
       "        vertical-align: top;\n",
       "    }\n",
       "\n",
       "    .dataframe thead th {\n",
       "        text-align: right;\n",
       "    }\n",
       "</style>\n",
       "<table border=\"1\" class=\"dataframe\">\n",
       "  <thead>\n",
       "    <tr style=\"text-align: right;\">\n",
       "      <th></th>\n",
       "      <th>Type</th>\n",
       "      <th>Date</th>\n",
       "    </tr>\n",
       "  </thead>\n",
       "  <tbody>\n",
       "    <tr>\n",
       "      <th>0</th>\n",
       "      <td>OUTSIDE FIRE</td>\n",
       "      <td>2022-05-01</td>\n",
       "    </tr>\n",
       "    <tr>\n",
       "      <th>1</th>\n",
       "      <td>ALARMS</td>\n",
       "      <td>2022-01-19</td>\n",
       "    </tr>\n",
       "    <tr>\n",
       "      <th>2</th>\n",
       "      <td>ALARMS</td>\n",
       "      <td>2021-05-03</td>\n",
       "    </tr>\n",
       "    <tr>\n",
       "      <th>3</th>\n",
       "      <td>ALARMS</td>\n",
       "      <td>2021-10-20</td>\n",
       "    </tr>\n",
       "    <tr>\n",
       "      <th>4</th>\n",
       "      <td>ALARMS</td>\n",
       "      <td>2022-04-30</td>\n",
       "    </tr>\n",
       "  </tbody>\n",
       "</table>\n",
       "</div>"
      ],
      "text/plain": [
       "           Type        Date\n",
       "0  OUTSIDE FIRE  2022-05-01\n",
       "1        ALARMS  2022-01-19\n",
       "2        ALARMS  2021-05-03\n",
       "3        ALARMS  2021-10-20\n",
       "4        ALARMS  2022-04-30"
      ]
     },
     "execution_count": 50,
     "metadata": {},
     "output_type": "execute_result"
    }
   ],
   "source": [
    "df.limit(5).select(\n",
    "    expr(\"UPPER(`Call Type`)\").alias(\"Type\"),\n",
    "    expr(\"to_date(`Call Date`, 'MM/dd/yyyy')\").alias(\"Date\")\n",
    ").toPandas()"
   ]
  },
  {
   "cell_type": "code",
   "execution_count": 52,
   "id": "05f02552-132d-4971-be14-e82c07e96f57",
   "metadata": {},
   "outputs": [
    {
     "data": {
      "text/html": [
       "<div>\n",
       "<style scoped>\n",
       "    .dataframe tbody tr th:only-of-type {\n",
       "        vertical-align: middle;\n",
       "    }\n",
       "\n",
       "    .dataframe tbody tr th {\n",
       "        vertical-align: top;\n",
       "    }\n",
       "\n",
       "    .dataframe thead th {\n",
       "        text-align: right;\n",
       "    }\n",
       "</style>\n",
       "<table border=\"1\" class=\"dataframe\">\n",
       "  <thead>\n",
       "    <tr style=\"text-align: right;\">\n",
       "      <th></th>\n",
       "      <th>Type</th>\n",
       "      <th>Date</th>\n",
       "    </tr>\n",
       "  </thead>\n",
       "  <tbody>\n",
       "    <tr>\n",
       "      <th>0</th>\n",
       "      <td>ODOR (STRANGE / UNKNOWN)</td>\n",
       "      <td>2021-04-20</td>\n",
       "    </tr>\n",
       "    <tr>\n",
       "      <th>1</th>\n",
       "      <td>ODOR (STRANGE / UNKNOWN)</td>\n",
       "      <td>2021-04-20</td>\n",
       "    </tr>\n",
       "    <tr>\n",
       "      <th>2</th>\n",
       "      <td>ODOR (STRANGE / UNKNOWN)</td>\n",
       "      <td>2021-10-07</td>\n",
       "    </tr>\n",
       "    <tr>\n",
       "      <th>3</th>\n",
       "      <td>ODOR (STRANGE / UNKNOWN)</td>\n",
       "      <td>2022-07-15</td>\n",
       "    </tr>\n",
       "    <tr>\n",
       "      <th>4</th>\n",
       "      <td>ODOR (STRANGE / UNKNOWN)</td>\n",
       "      <td>2021-10-08</td>\n",
       "    </tr>\n",
       "    <tr>\n",
       "      <th>5</th>\n",
       "      <td>ODOR (STRANGE / UNKNOWN)</td>\n",
       "      <td>2022-01-06</td>\n",
       "    </tr>\n",
       "    <tr>\n",
       "      <th>6</th>\n",
       "      <td>ODOR (STRANGE / UNKNOWN)</td>\n",
       "      <td>2022-01-06</td>\n",
       "    </tr>\n",
       "    <tr>\n",
       "      <th>7</th>\n",
       "      <td>ODOR (STRANGE / UNKNOWN)</td>\n",
       "      <td>2022-01-06</td>\n",
       "    </tr>\n",
       "    <tr>\n",
       "      <th>8</th>\n",
       "      <td>ODOR (STRANGE / UNKNOWN)</td>\n",
       "      <td>2021-04-22</td>\n",
       "    </tr>\n",
       "    <tr>\n",
       "      <th>9</th>\n",
       "      <td>ODOR (STRANGE / UNKNOWN)</td>\n",
       "      <td>2022-04-19</td>\n",
       "    </tr>\n",
       "  </tbody>\n",
       "</table>\n",
       "</div>"
      ],
      "text/plain": [
       "                       Type        Date\n",
       "0  ODOR (STRANGE / UNKNOWN)  2021-04-20\n",
       "1  ODOR (STRANGE / UNKNOWN)  2021-04-20\n",
       "2  ODOR (STRANGE / UNKNOWN)  2021-10-07\n",
       "3  ODOR (STRANGE / UNKNOWN)  2022-07-15\n",
       "4  ODOR (STRANGE / UNKNOWN)  2021-10-08\n",
       "5  ODOR (STRANGE / UNKNOWN)  2022-01-06\n",
       "6  ODOR (STRANGE / UNKNOWN)  2022-01-06\n",
       "7  ODOR (STRANGE / UNKNOWN)  2022-01-06\n",
       "8  ODOR (STRANGE / UNKNOWN)  2021-04-22\n",
       "9  ODOR (STRANGE / UNKNOWN)  2022-04-19"
      ]
     },
     "execution_count": 52,
     "metadata": {},
     "output_type": "execute_result"
    }
   ],
   "source": [
    "df.select(\n",
    "    expr(\"UPPER(`Call Type`)\").alias(\"Type\"),\n",
    "    expr(\"to_date(`Call Date`, 'MM/dd/yyyy')\").alias(\"Date\")\n",
    ").where(col(\"Type\").startswith(\"ODOR\")).limit(10).toPandas()"
   ]
  },
  {
   "cell_type": "markdown",
   "id": "f3924960-3da2-413d-9ee2-d0762abed372",
   "metadata": {},
   "source": [
    "# Write a DataFrame as parquet"
   ]
  },
  {
   "cell_type": "code",
   "execution_count": 60,
   "id": "faf41fcd-55a1-49ac-a090-1191d0b61a26",
   "metadata": {},
   "outputs": [],
   "source": [
    "columns = [col(c).alias(c.replace(\" \", \"\")) for c in df.columns]"
   ]
  },
  {
   "cell_type": "code",
   "execution_count": 63,
   "id": "2a5dc8de-0dc9-4bc0-b377-bf7a9a789e1f",
   "metadata": {},
   "outputs": [],
   "source": [
    "# df.select(columns).write.format(\"parquet\").save(\"hdfs://main:9000/sf.parquet\")"
   ]
  },
  {
   "cell_type": "code",
   "execution_count": 67,
   "id": "73887cf9-5da8-4325-9027-127f9b5161ae",
   "metadata": {},
   "outputs": [
    {
     "data": {
      "text/plain": [
       "17"
      ]
     },
     "execution_count": 67,
     "metadata": {},
     "output_type": "execute_result"
    }
   ],
   "source": [
    "df.rdd.getNumPartitions()"
   ]
  },
  {
   "cell_type": "code",
   "execution_count": 64,
   "id": "9f14c432-b69c-4933-889d-95b74f419770",
   "metadata": {},
   "outputs": [
    {
     "name": "stderr",
     "output_type": "stream",
     "text": [
      "                                                                                \r"
     ]
    }
   ],
   "source": [
    "df.select(columns).write.format(\"parquet\").mode(\"overwrite\").save(\"hdfs://main:9000/sf.parquet\")"
   ]
  },
  {
   "cell_type": "code",
   "execution_count": 69,
   "id": "34e9a836-28e2-4717-974d-fd3dadc8eb8d",
   "metadata": {},
   "outputs": [
    {
     "name": "stdout",
     "output_type": "stream",
     "text": [
      "Found 2 items\n",
      "-rw-r--r--   3 root supergroup 2265533682 2023-03-08 16:17 hdfs://main:9000/sf.csv\n",
      "drwxr-xr-x   - root supergroup          0 2023-03-08 16:37 hdfs://main:9000/sf.parquet\n"
     ]
    }
   ],
   "source": [
    "!hdfs dfs -ls hdfs://main:9000/"
   ]
  },
  {
   "cell_type": "code",
   "execution_count": 72,
   "id": "23becd43-af06-45b4-9c10-3d82e0d314ac",
   "metadata": {},
   "outputs": [
    {
     "name": "stdout",
     "output_type": "stream",
     "text": [
      "0       0        hdfs://main:9000/sf.parquet/_SUCCESS\n",
      "26.5 M  79.6 M   hdfs://main:9000/sf.parquet/part-00000-d2f50fdd-7431-4d52-b976-1f1e59f0a0e0-c000.snappy.parquet\n",
      "26.5 M  79.5 M   hdfs://main:9000/sf.parquet/part-00001-d2f50fdd-7431-4d52-b976-1f1e59f0a0e0-c000.snappy.parquet\n",
      "38.6 M  115.8 M  hdfs://main:9000/sf.parquet/part-00002-d2f50fdd-7431-4d52-b976-1f1e59f0a0e0-c000.snappy.parquet\n",
      "34.3 M  103.0 M  hdfs://main:9000/sf.parquet/part-00003-d2f50fdd-7431-4d52-b976-1f1e59f0a0e0-c000.snappy.parquet\n",
      "34.4 M  103.1 M  hdfs://main:9000/sf.parquet/part-00004-d2f50fdd-7431-4d52-b976-1f1e59f0a0e0-c000.snappy.parquet\n",
      "34.4 M  103.2 M  hdfs://main:9000/sf.parquet/part-00005-d2f50fdd-7431-4d52-b976-1f1e59f0a0e0-c000.snappy.parquet\n",
      "34.3 M  102.8 M  hdfs://main:9000/sf.parquet/part-00006-d2f50fdd-7431-4d52-b976-1f1e59f0a0e0-c000.snappy.parquet\n",
      "34.2 M  102.7 M  hdfs://main:9000/sf.parquet/part-00007-d2f50fdd-7431-4d52-b976-1f1e59f0a0e0-c000.snappy.parquet\n",
      "34.7 M  104.2 M  hdfs://main:9000/sf.parquet/part-00008-d2f50fdd-7431-4d52-b976-1f1e59f0a0e0-c000.snappy.parquet\n",
      "33.7 M  101.2 M  hdfs://main:9000/sf.parquet/part-00009-d2f50fdd-7431-4d52-b976-1f1e59f0a0e0-c000.snappy.parquet\n",
      "32.7 M  98.0 M   hdfs://main:9000/sf.parquet/part-00010-d2f50fdd-7431-4d52-b976-1f1e59f0a0e0-c000.snappy.parquet\n",
      "32.4 M  97.1 M   hdfs://main:9000/sf.parquet/part-00011-d2f50fdd-7431-4d52-b976-1f1e59f0a0e0-c000.snappy.parquet\n",
      "31.9 M  95.8 M   hdfs://main:9000/sf.parquet/part-00012-d2f50fdd-7431-4d52-b976-1f1e59f0a0e0-c000.snappy.parquet\n",
      "33.3 M  99.8 M   hdfs://main:9000/sf.parquet/part-00013-d2f50fdd-7431-4d52-b976-1f1e59f0a0e0-c000.snappy.parquet\n",
      "34.1 M  102.2 M  hdfs://main:9000/sf.parquet/part-00014-d2f50fdd-7431-4d52-b976-1f1e59f0a0e0-c000.snappy.parquet\n",
      "34.1 M  102.3 M  hdfs://main:9000/sf.parquet/part-00015-d2f50fdd-7431-4d52-b976-1f1e59f0a0e0-c000.snappy.parquet\n",
      "28.0 M  84.0 M   hdfs://main:9000/sf.parquet/part-00016-d2f50fdd-7431-4d52-b976-1f1e59f0a0e0-c000.snappy.parquet\n"
     ]
    }
   ],
   "source": [
    "# when spark writes parquet, it actually writes many files (1 per partition)\n",
    "!hdfs dfs -du -h hdfs://main:9000/sf.parquet"
   ]
  },
  {
   "cell_type": "code",
   "execution_count": 73,
   "id": "14d8880d-5ee4-4026-8093-e0cffb5e5fd2",
   "metadata": {},
   "outputs": [],
   "source": [
    "df = spark.read.format(\"parquet\").load(\"hdfs://main:9000/sf.parquet\")"
   ]
  },
  {
   "cell_type": "code",
   "execution_count": 75,
   "id": "448585a1-bacd-4e6c-b270-bac94bb7bb32",
   "metadata": {},
   "outputs": [],
   "source": [
    "# df.dtypes"
   ]
  },
  {
   "cell_type": "code",
   "execution_count": 76,
   "id": "14f82764-7e5a-4b16-a4d7-d5dba3dec3b2",
   "metadata": {},
   "outputs": [
    {
     "name": "stderr",
     "output_type": "stream",
     "text": [
      "                                                                                \r"
     ]
    },
    {
     "data": {
      "text/plain": [
       "6016056"
      ]
     },
     "execution_count": 76,
     "metadata": {},
     "output_type": "execute_result"
    }
   ],
   "source": [
    "df.count()"
   ]
  },
  {
   "cell_type": "code",
   "execution_count": 77,
   "id": "0213eb35-4074-4e38-bec9-3ad87a6a4fd0",
   "metadata": {},
   "outputs": [
    {
     "data": {
      "text/plain": [
       "6"
      ]
     },
     "execution_count": 77,
     "metadata": {},
     "output_type": "execute_result"
    }
   ],
   "source": [
    "df.rdd.getNumPartitions()"
   ]
  },
  {
   "cell_type": "code",
   "execution_count": 81,
   "id": "89125e75-c43c-48f9-a3bf-07147b0ac49f",
   "metadata": {},
   "outputs": [],
   "source": [
    "# a view doesn't compute anything, it describes how\n",
    "# df.createTempView(\"calls\")\n",
    "df.createOrReplaceTempView(\"calls\")"
   ]
  },
  {
   "cell_type": "code",
   "execution_count": 82,
   "id": "4a8d2479-3a16-47d4-b6b7-772fac42f23a",
   "metadata": {},
   "outputs": [],
   "source": [
    "# spark.sql(QUERY)"
   ]
  },
  {
   "cell_type": "code",
   "execution_count": 84,
   "id": "6525acab-37ea-46d2-968b-18bcd6ca70e5",
   "metadata": {},
   "outputs": [
    {
     "name": "stdout",
     "output_type": "stream",
     "text": [
      "+---------+---------+-----------+\n",
      "|namespace|tableName|isTemporary|\n",
      "+---------+---------+-----------+\n",
      "|         |    calls|       true|\n",
      "+---------+---------+-----------+\n",
      "\n"
     ]
    }
   ],
   "source": [
    "spark.sql(\"SHOW TABLES\").show()   # shows both views and tables"
   ]
  },
  {
   "cell_type": "code",
   "execution_count": 85,
   "id": "b2f5f9c0-6e21-4be0-a606-e8d8241b8fc5",
   "metadata": {},
   "outputs": [
    {
     "data": {
      "text/plain": [
       "DataFrame[CallNumber: int, UnitID: string, IncidentNumber: int, CallType: string, CallDate: string, WatchDate: string, ReceivedDtTm: string, EntryDtTm: string, DispatchDtTm: string, ResponseDtTm: string, OnSceneDtTm: string, TransportDtTm: string, HospitalDtTm: string, CallFinalDisposition: string, AvailableDtTm: string, Address: string, City: string, ZipcodeofIncident: int, Battalion: string, StationArea: string, Box: string, OriginalPriority: string, Priority: string, FinalPriority: int, ALSUnit: boolean, CallTypeGroup: string, NumberofAlarms: int, UnitType: string, Unitsequenceincalldispatch: int, FirePreventionDistrict: string, SupervisorDistrict: string, Neighborhooods-AnalysisBoundaries: string, RowID: string, case_location: string, AnalysisNeighborhoods: int]"
      ]
     },
     "execution_count": 85,
     "metadata": {},
     "output_type": "execute_result"
    }
   ],
   "source": [
    "spark.sql(\"\"\"\n",
    "SELECT *\n",
    "FROM calls\n",
    "LIMIT 10\n",
    "\"\"\")"
   ]
  },
  {
   "cell_type": "code",
   "execution_count": 87,
   "id": "7e59f38e-7b06-407e-8a1d-6599c1794bde",
   "metadata": {},
   "outputs": [
    {
     "data": {
      "text/html": [
       "<div>\n",
       "<style scoped>\n",
       "    .dataframe tbody tr th:only-of-type {\n",
       "        vertical-align: middle;\n",
       "    }\n",
       "\n",
       "    .dataframe tbody tr th {\n",
       "        vertical-align: top;\n",
       "    }\n",
       "\n",
       "    .dataframe thead th {\n",
       "        text-align: right;\n",
       "    }\n",
       "</style>\n",
       "<table border=\"1\" class=\"dataframe\">\n",
       "  <thead>\n",
       "    <tr style=\"text-align: right;\">\n",
       "      <th></th>\n",
       "      <th>CallNumber</th>\n",
       "      <th>UnitID</th>\n",
       "      <th>IncidentNumber</th>\n",
       "      <th>CallType</th>\n",
       "      <th>CallDate</th>\n",
       "      <th>WatchDate</th>\n",
       "      <th>ReceivedDtTm</th>\n",
       "      <th>EntryDtTm</th>\n",
       "      <th>DispatchDtTm</th>\n",
       "      <th>ResponseDtTm</th>\n",
       "      <th>...</th>\n",
       "      <th>CallTypeGroup</th>\n",
       "      <th>NumberofAlarms</th>\n",
       "      <th>UnitType</th>\n",
       "      <th>Unitsequenceincalldispatch</th>\n",
       "      <th>FirePreventionDistrict</th>\n",
       "      <th>SupervisorDistrict</th>\n",
       "      <th>Neighborhooods-AnalysisBoundaries</th>\n",
       "      <th>RowID</th>\n",
       "      <th>case_location</th>\n",
       "      <th>AnalysisNeighborhoods</th>\n",
       "    </tr>\n",
       "  </thead>\n",
       "  <tbody>\n",
       "    <tr>\n",
       "      <th>0</th>\n",
       "      <td>201340825</td>\n",
       "      <td>T06</td>\n",
       "      <td>20055834</td>\n",
       "      <td>Other</td>\n",
       "      <td>05/13/2020</td>\n",
       "      <td>05/13/2020</td>\n",
       "      <td>05/13/2020 08:51:30 AM</td>\n",
       "      <td>05/13/2020 08:51:30 AM</td>\n",
       "      <td>05/13/2020 08:54:56 AM</td>\n",
       "      <td>05/13/2020 08:55:10 AM</td>\n",
       "      <td>...</td>\n",
       "      <td>Alarm</td>\n",
       "      <td>1</td>\n",
       "      <td>TRUCK</td>\n",
       "      <td>1</td>\n",
       "      <td>2</td>\n",
       "      <td>8</td>\n",
       "      <td>Mission</td>\n",
       "      <td>201340825-T06</td>\n",
       "      <td>POINT (-122.42251458613262 37.770727334245194)</td>\n",
       "      <td>20</td>\n",
       "    </tr>\n",
       "    <tr>\n",
       "      <th>1</th>\n",
       "      <td>201241707</td>\n",
       "      <td>FB3</td>\n",
       "      <td>20052084</td>\n",
       "      <td>Outside Fire</td>\n",
       "      <td>05/03/2020</td>\n",
       "      <td>05/03/2020</td>\n",
       "      <td>05/03/2020 01:46:02 PM</td>\n",
       "      <td>05/03/2020 01:46:02 PM</td>\n",
       "      <td>05/03/2020 01:46:11 PM</td>\n",
       "      <td>05/03/2020 01:47:41 PM</td>\n",
       "      <td>...</td>\n",
       "      <td>Alarm</td>\n",
       "      <td>1</td>\n",
       "      <td>SUPPORT</td>\n",
       "      <td>2</td>\n",
       "      <td>1</td>\n",
       "      <td>3</td>\n",
       "      <td>Financial District/South Beach</td>\n",
       "      <td>201241707-FB3</td>\n",
       "      <td>POINT (-122.3946511276673 37.79530574375478)</td>\n",
       "      <td>8</td>\n",
       "    </tr>\n",
       "    <tr>\n",
       "      <th>2</th>\n",
       "      <td>201083222</td>\n",
       "      <td>AM118</td>\n",
       "      <td>20045948</td>\n",
       "      <td>Medical Incident</td>\n",
       "      <td>04/17/2020</td>\n",
       "      <td>04/17/2020</td>\n",
       "      <td>04/17/2020 09:19:43 PM</td>\n",
       "      <td>04/17/2020 09:19:43 PM</td>\n",
       "      <td>04/17/2020 09:21:10 PM</td>\n",
       "      <td>04/17/2020 09:21:55 PM</td>\n",
       "      <td>...</td>\n",
       "      <td>Non Life-threatening</td>\n",
       "      <td>1</td>\n",
       "      <td>PRIVATE</td>\n",
       "      <td>2</td>\n",
       "      <td>2</td>\n",
       "      <td>6</td>\n",
       "      <td>South of Market</td>\n",
       "      <td>201083222-AM118</td>\n",
       "      <td>POINT (-122.41071806030364 37.778959763358266)</td>\n",
       "      <td>34</td>\n",
       "    </tr>\n",
       "    <tr>\n",
       "      <th>3</th>\n",
       "      <td>201160160</td>\n",
       "      <td>54</td>\n",
       "      <td>20048802</td>\n",
       "      <td>Medical Incident</td>\n",
       "      <td>04/25/2020</td>\n",
       "      <td>04/24/2020</td>\n",
       "      <td>04/25/2020 01:39:37 AM</td>\n",
       "      <td>04/25/2020 01:41:00 AM</td>\n",
       "      <td>04/25/2020 01:42:09 AM</td>\n",
       "      <td>04/25/2020 01:42:22 AM</td>\n",
       "      <td>...</td>\n",
       "      <td>Potentially Life-Threatening</td>\n",
       "      <td>1</td>\n",
       "      <td>MEDIC</td>\n",
       "      <td>1</td>\n",
       "      <td>2</td>\n",
       "      <td>6</td>\n",
       "      <td>Tenderloin</td>\n",
       "      <td>201160160-54</td>\n",
       "      <td>POINT (-122.41632744176792 37.78244849821827)</td>\n",
       "      <td>36</td>\n",
       "    </tr>\n",
       "    <tr>\n",
       "      <th>4</th>\n",
       "      <td>201382742</td>\n",
       "      <td>70</td>\n",
       "      <td>20057634</td>\n",
       "      <td>Medical Incident</td>\n",
       "      <td>05/17/2020</td>\n",
       "      <td>05/17/2020</td>\n",
       "      <td>05/17/2020 06:16:44 PM</td>\n",
       "      <td>05/17/2020 06:19:46 PM</td>\n",
       "      <td>05/17/2020 06:20:39 PM</td>\n",
       "      <td>05/17/2020 06:20:42 PM</td>\n",
       "      <td>...</td>\n",
       "      <td>Non Life-threatening</td>\n",
       "      <td>1</td>\n",
       "      <td>MEDIC</td>\n",
       "      <td>1</td>\n",
       "      <td>3</td>\n",
       "      <td>6</td>\n",
       "      <td>Mission Bay</td>\n",
       "      <td>201382742-70</td>\n",
       "      <td>POINT (-122.39820071397247 37.772033503746634)</td>\n",
       "      <td>4</td>\n",
       "    </tr>\n",
       "    <tr>\n",
       "      <th>5</th>\n",
       "      <td>201471465</td>\n",
       "      <td>82</td>\n",
       "      <td>20061098</td>\n",
       "      <td>Medical Incident</td>\n",
       "      <td>05/26/2020</td>\n",
       "      <td>05/26/2020</td>\n",
       "      <td>05/26/2020 11:28:57 AM</td>\n",
       "      <td>05/26/2020 11:32:34 AM</td>\n",
       "      <td>05/26/2020 11:46:47 AM</td>\n",
       "      <td>05/26/2020 11:46:47 AM</td>\n",
       "      <td>...</td>\n",
       "      <td>Potentially Life-Threatening</td>\n",
       "      <td>1</td>\n",
       "      <td>MEDIC</td>\n",
       "      <td>4</td>\n",
       "      <td>7</td>\n",
       "      <td>1</td>\n",
       "      <td>Golden Gate Park</td>\n",
       "      <td>201471465-82</td>\n",
       "      <td>POINT (-122.5004598282247 37.76815687556086)</td>\n",
       "      <td>12</td>\n",
       "    </tr>\n",
       "    <tr>\n",
       "      <th>6</th>\n",
       "      <td>201323381</td>\n",
       "      <td>94</td>\n",
       "      <td>20055383</td>\n",
       "      <td>Medical Incident</td>\n",
       "      <td>05/11/2020</td>\n",
       "      <td>05/11/2020</td>\n",
       "      <td>05/11/2020 10:58:24 PM</td>\n",
       "      <td>05/11/2020 11:00:56 PM</td>\n",
       "      <td>05/11/2020 11:01:34 PM</td>\n",
       "      <td>05/11/2020 11:01:52 PM</td>\n",
       "      <td>...</td>\n",
       "      <td>Potentially Life-Threatening</td>\n",
       "      <td>1</td>\n",
       "      <td>MEDIC</td>\n",
       "      <td>2</td>\n",
       "      <td>2</td>\n",
       "      <td>6</td>\n",
       "      <td>Mission</td>\n",
       "      <td>201323381-94</td>\n",
       "      <td>POINT (-122.40800720584919 37.76924401107554)</td>\n",
       "      <td>20</td>\n",
       "    </tr>\n",
       "    <tr>\n",
       "      <th>7</th>\n",
       "      <td>201413221</td>\n",
       "      <td>QRV1</td>\n",
       "      <td>20058866</td>\n",
       "      <td>Medical Incident</td>\n",
       "      <td>05/20/2020</td>\n",
       "      <td>05/20/2020</td>\n",
       "      <td>05/20/2020 08:17:16 PM</td>\n",
       "      <td>05/20/2020 08:17:16 PM</td>\n",
       "      <td>05/20/2020 08:17:30 PM</td>\n",
       "      <td>05/20/2020 08:17:33 PM</td>\n",
       "      <td>...</td>\n",
       "      <td>Potentially Life-Threatening</td>\n",
       "      <td>1</td>\n",
       "      <td>SUPPORT</td>\n",
       "      <td>1</td>\n",
       "      <td>2</td>\n",
       "      <td>6</td>\n",
       "      <td>Tenderloin</td>\n",
       "      <td>201413221-QRV1</td>\n",
       "      <td>POINT (-122.41906982202991 37.77843736682197)</td>\n",
       "      <td>36</td>\n",
       "    </tr>\n",
       "    <tr>\n",
       "      <th>8</th>\n",
       "      <td>201282947</td>\n",
       "      <td>AM118</td>\n",
       "      <td>20053839</td>\n",
       "      <td>Medical Incident</td>\n",
       "      <td>05/07/2020</td>\n",
       "      <td>05/07/2020</td>\n",
       "      <td>05/07/2020 05:59:37 PM</td>\n",
       "      <td>05/07/2020 06:03:16 PM</td>\n",
       "      <td>05/07/2020 06:04:50 PM</td>\n",
       "      <td>05/07/2020 06:05:25 PM</td>\n",
       "      <td>...</td>\n",
       "      <td>Non Life-threatening</td>\n",
       "      <td>1</td>\n",
       "      <td>PRIVATE</td>\n",
       "      <td>2</td>\n",
       "      <td>None</td>\n",
       "      <td>6</td>\n",
       "      <td>Treasure Island</td>\n",
       "      <td>201282947-AM118</td>\n",
       "      <td>POINT (-122.36513827228869 37.81052072252062)</td>\n",
       "      <td>37</td>\n",
       "    </tr>\n",
       "    <tr>\n",
       "      <th>9</th>\n",
       "      <td>201251640</td>\n",
       "      <td>E29</td>\n",
       "      <td>20052477</td>\n",
       "      <td>Outside Fire</td>\n",
       "      <td>05/04/2020</td>\n",
       "      <td>05/04/2020</td>\n",
       "      <td>05/04/2020 12:47:36 PM</td>\n",
       "      <td>05/04/2020 12:48:49 PM</td>\n",
       "      <td>05/04/2020 12:48:53 PM</td>\n",
       "      <td>05/04/2020 12:50:17 PM</td>\n",
       "      <td>...</td>\n",
       "      <td>Fire</td>\n",
       "      <td>1</td>\n",
       "      <td>ENGINE</td>\n",
       "      <td>1</td>\n",
       "      <td>2</td>\n",
       "      <td>10</td>\n",
       "      <td>Potrero Hill</td>\n",
       "      <td>201251640-E29</td>\n",
       "      <td>POINT (-122.40556651195942 37.76330275793136)</td>\n",
       "      <td>20</td>\n",
       "    </tr>\n",
       "  </tbody>\n",
       "</table>\n",
       "<p>10 rows × 35 columns</p>\n",
       "</div>"
      ],
      "text/plain": [
       "   CallNumber UnitID  IncidentNumber          CallType    CallDate  \\\n",
       "0   201340825    T06        20055834             Other  05/13/2020   \n",
       "1   201241707    FB3        20052084      Outside Fire  05/03/2020   \n",
       "2   201083222  AM118        20045948  Medical Incident  04/17/2020   \n",
       "3   201160160     54        20048802  Medical Incident  04/25/2020   \n",
       "4   201382742     70        20057634  Medical Incident  05/17/2020   \n",
       "5   201471465     82        20061098  Medical Incident  05/26/2020   \n",
       "6   201323381     94        20055383  Medical Incident  05/11/2020   \n",
       "7   201413221   QRV1        20058866  Medical Incident  05/20/2020   \n",
       "8   201282947  AM118        20053839  Medical Incident  05/07/2020   \n",
       "9   201251640    E29        20052477      Outside Fire  05/04/2020   \n",
       "\n",
       "    WatchDate            ReceivedDtTm               EntryDtTm  \\\n",
       "0  05/13/2020  05/13/2020 08:51:30 AM  05/13/2020 08:51:30 AM   \n",
       "1  05/03/2020  05/03/2020 01:46:02 PM  05/03/2020 01:46:02 PM   \n",
       "2  04/17/2020  04/17/2020 09:19:43 PM  04/17/2020 09:19:43 PM   \n",
       "3  04/24/2020  04/25/2020 01:39:37 AM  04/25/2020 01:41:00 AM   \n",
       "4  05/17/2020  05/17/2020 06:16:44 PM  05/17/2020 06:19:46 PM   \n",
       "5  05/26/2020  05/26/2020 11:28:57 AM  05/26/2020 11:32:34 AM   \n",
       "6  05/11/2020  05/11/2020 10:58:24 PM  05/11/2020 11:00:56 PM   \n",
       "7  05/20/2020  05/20/2020 08:17:16 PM  05/20/2020 08:17:16 PM   \n",
       "8  05/07/2020  05/07/2020 05:59:37 PM  05/07/2020 06:03:16 PM   \n",
       "9  05/04/2020  05/04/2020 12:47:36 PM  05/04/2020 12:48:49 PM   \n",
       "\n",
       "             DispatchDtTm            ResponseDtTm  ...  \\\n",
       "0  05/13/2020 08:54:56 AM  05/13/2020 08:55:10 AM  ...   \n",
       "1  05/03/2020 01:46:11 PM  05/03/2020 01:47:41 PM  ...   \n",
       "2  04/17/2020 09:21:10 PM  04/17/2020 09:21:55 PM  ...   \n",
       "3  04/25/2020 01:42:09 AM  04/25/2020 01:42:22 AM  ...   \n",
       "4  05/17/2020 06:20:39 PM  05/17/2020 06:20:42 PM  ...   \n",
       "5  05/26/2020 11:46:47 AM  05/26/2020 11:46:47 AM  ...   \n",
       "6  05/11/2020 11:01:34 PM  05/11/2020 11:01:52 PM  ...   \n",
       "7  05/20/2020 08:17:30 PM  05/20/2020 08:17:33 PM  ...   \n",
       "8  05/07/2020 06:04:50 PM  05/07/2020 06:05:25 PM  ...   \n",
       "9  05/04/2020 12:48:53 PM  05/04/2020 12:50:17 PM  ...   \n",
       "\n",
       "                  CallTypeGroup NumberofAlarms UnitType  \\\n",
       "0                         Alarm              1    TRUCK   \n",
       "1                         Alarm              1  SUPPORT   \n",
       "2          Non Life-threatening              1  PRIVATE   \n",
       "3  Potentially Life-Threatening              1    MEDIC   \n",
       "4          Non Life-threatening              1    MEDIC   \n",
       "5  Potentially Life-Threatening              1    MEDIC   \n",
       "6  Potentially Life-Threatening              1    MEDIC   \n",
       "7  Potentially Life-Threatening              1  SUPPORT   \n",
       "8          Non Life-threatening              1  PRIVATE   \n",
       "9                          Fire              1   ENGINE   \n",
       "\n",
       "  Unitsequenceincalldispatch FirePreventionDistrict SupervisorDistrict  \\\n",
       "0                          1                      2                  8   \n",
       "1                          2                      1                  3   \n",
       "2                          2                      2                  6   \n",
       "3                          1                      2                  6   \n",
       "4                          1                      3                  6   \n",
       "5                          4                      7                  1   \n",
       "6                          2                      2                  6   \n",
       "7                          1                      2                  6   \n",
       "8                          2                   None                  6   \n",
       "9                          1                      2                 10   \n",
       "\n",
       "  Neighborhooods-AnalysisBoundaries            RowID  \\\n",
       "0                           Mission    201340825-T06   \n",
       "1    Financial District/South Beach    201241707-FB3   \n",
       "2                   South of Market  201083222-AM118   \n",
       "3                        Tenderloin     201160160-54   \n",
       "4                       Mission Bay     201382742-70   \n",
       "5                  Golden Gate Park     201471465-82   \n",
       "6                           Mission     201323381-94   \n",
       "7                        Tenderloin   201413221-QRV1   \n",
       "8                   Treasure Island  201282947-AM118   \n",
       "9                      Potrero Hill    201251640-E29   \n",
       "\n",
       "                                    case_location AnalysisNeighborhoods  \n",
       "0  POINT (-122.42251458613262 37.770727334245194)                    20  \n",
       "1    POINT (-122.3946511276673 37.79530574375478)                     8  \n",
       "2  POINT (-122.41071806030364 37.778959763358266)                    34  \n",
       "3   POINT (-122.41632744176792 37.78244849821827)                    36  \n",
       "4  POINT (-122.39820071397247 37.772033503746634)                     4  \n",
       "5    POINT (-122.5004598282247 37.76815687556086)                    12  \n",
       "6   POINT (-122.40800720584919 37.76924401107554)                    20  \n",
       "7   POINT (-122.41906982202991 37.77843736682197)                    36  \n",
       "8   POINT (-122.36513827228869 37.81052072252062)                    37  \n",
       "9   POINT (-122.40556651195942 37.76330275793136)                    20  \n",
       "\n",
       "[10 rows x 35 columns]"
      ]
     },
     "execution_count": 87,
     "metadata": {},
     "output_type": "execute_result"
    }
   ],
   "source": [
    "spark.sql(\"\"\"\n",
    "SELECT *\n",
    "FROM calls\n",
    "LIMIT 10\n",
    "\"\"\").toPandas()"
   ]
  },
  {
   "cell_type": "code",
   "execution_count": 90,
   "id": "a015d61d-2d99-4c19-b619-85c11c2b0af0",
   "metadata": {},
   "outputs": [
    {
     "data": {
      "text/html": [
       "<div>\n",
       "<style scoped>\n",
       "    .dataframe tbody tr th:only-of-type {\n",
       "        vertical-align: middle;\n",
       "    }\n",
       "\n",
       "    .dataframe tbody tr th {\n",
       "        vertical-align: top;\n",
       "    }\n",
       "\n",
       "    .dataframe thead th {\n",
       "        text-align: right;\n",
       "    }\n",
       "</style>\n",
       "<table border=\"1\" class=\"dataframe\">\n",
       "  <thead>\n",
       "    <tr style=\"text-align: right;\">\n",
       "      <th></th>\n",
       "      <th>Type</th>\n",
       "      <th>Date</th>\n",
       "    </tr>\n",
       "  </thead>\n",
       "  <tbody>\n",
       "    <tr>\n",
       "      <th>0</th>\n",
       "      <td>ODOR (STRANGE / UNKNOWN)</td>\n",
       "      <td>2020-04-21</td>\n",
       "    </tr>\n",
       "    <tr>\n",
       "      <th>1</th>\n",
       "      <td>ODOR (STRANGE / UNKNOWN)</td>\n",
       "      <td>2020-05-15</td>\n",
       "    </tr>\n",
       "    <tr>\n",
       "      <th>2</th>\n",
       "      <td>ODOR (STRANGE / UNKNOWN)</td>\n",
       "      <td>2020-05-09</td>\n",
       "    </tr>\n",
       "  </tbody>\n",
       "</table>\n",
       "</div>"
      ],
      "text/plain": [
       "                       Type        Date\n",
       "0  ODOR (STRANGE / UNKNOWN)  2020-04-21\n",
       "1  ODOR (STRANGE / UNKNOWN)  2020-05-15\n",
       "2  ODOR (STRANGE / UNKNOWN)  2020-05-09"
      ]
     },
     "execution_count": 90,
     "metadata": {},
     "output_type": "execute_result"
    }
   ],
   "source": [
    "df.select(\n",
    "    expr(\"UPPER(`CallType`)\").alias(\"Type\"),\n",
    "    expr(\"to_date(`CallDate`, 'MM/dd/yyyy')\").alias(\"Date\")\n",
    ").where(col(\"Type\").startswith(\"ODOR\")).limit(3).toPandas()"
   ]
  },
  {
   "cell_type": "code",
   "execution_count": 100,
   "id": "11eea07b-483e-471d-bcf6-346a6451a8f2",
   "metadata": {},
   "outputs": [
    {
     "data": {
      "text/html": [
       "<div>\n",
       "<style scoped>\n",
       "    .dataframe tbody tr th:only-of-type {\n",
       "        vertical-align: middle;\n",
       "    }\n",
       "\n",
       "    .dataframe tbody tr th {\n",
       "        vertical-align: top;\n",
       "    }\n",
       "\n",
       "    .dataframe thead th {\n",
       "        text-align: right;\n",
       "    }\n",
       "</style>\n",
       "<table border=\"1\" class=\"dataframe\">\n",
       "  <thead>\n",
       "    <tr style=\"text-align: right;\">\n",
       "      <th></th>\n",
       "      <th>Type</th>\n",
       "      <th>Date</th>\n",
       "    </tr>\n",
       "  </thead>\n",
       "  <tbody>\n",
       "    <tr>\n",
       "      <th>0</th>\n",
       "      <td>ODOR (STRANGE / UNKNOWN)</td>\n",
       "      <td>2020-04-21</td>\n",
       "    </tr>\n",
       "    <tr>\n",
       "      <th>1</th>\n",
       "      <td>ODOR (STRANGE / UNKNOWN)</td>\n",
       "      <td>2020-05-15</td>\n",
       "    </tr>\n",
       "    <tr>\n",
       "      <th>2</th>\n",
       "      <td>ODOR (STRANGE / UNKNOWN)</td>\n",
       "      <td>2020-05-09</td>\n",
       "    </tr>\n",
       "  </tbody>\n",
       "</table>\n",
       "</div>"
      ],
      "text/plain": [
       "                       Type        Date\n",
       "0  ODOR (STRANGE / UNKNOWN)  2020-04-21\n",
       "1  ODOR (STRANGE / UNKNOWN)  2020-05-15\n",
       "2  ODOR (STRANGE / UNKNOWN)  2020-05-09"
      ]
     },
     "execution_count": 100,
     "metadata": {},
     "output_type": "execute_result"
    }
   ],
   "source": [
    "spark.sql(\"\"\"\n",
    "SELECT UPPER(CallType) AS Type, TO_DATE(CallDate, 'MM/dd/yyyy') AS Date\n",
    "FROM calls\n",
    "WHERE UPPER(CallType) LIKE 'ODOR%'\n",
    "LIMIT 3\n",
    "\"\"\").toPandas()"
   ]
  },
  {
   "cell_type": "code",
   "execution_count": null,
   "id": "d4df8664-208a-495d-9458-2265d31ebe07",
   "metadata": {},
   "outputs": [],
   "source": []
  }
 ],
 "metadata": {
  "kernelspec": {
   "display_name": "Python 3 (ipykernel)",
   "language": "python",
   "name": "python3"
  },
  "language_info": {
   "codemirror_mode": {
    "name": "ipython",
    "version": 3
   },
   "file_extension": ".py",
   "mimetype": "text/x-python",
   "name": "python",
   "nbconvert_exporter": "python",
   "pygments_lexer": "ipython3",
   "version": "3.10.6"
  }
 },
 "nbformat": 4,
 "nbformat_minor": 5
}
