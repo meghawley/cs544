{
 "cells": [
  {
   "cell_type": "code",
   "execution_count": 1,
   "id": "ceb9ab6d-4f71-4e38-ae28-fccfcd3b551d",
   "metadata": {},
   "outputs": [],
   "source": [
    "from pyspark.sql import SparkSession"
   ]
  },
  {
   "cell_type": "code",
   "execution_count": 2,
   "id": "c4e354ae-b67c-4e9b-8329-6fa6b282f775",
   "metadata": {
    "collapsed": true,
    "jupyter": {
     "outputs_hidden": true
    },
    "tags": []
   },
   "outputs": [
    {
     "name": "stderr",
     "output_type": "stream",
     "text": [
      "Using Spark's default log4j profile: org/apache/spark/log4j-defaults.properties\n",
      "Setting default log level to \"WARN\".\n",
      "To adjust logging level use sc.setLogLevel(newLevel). For SparkR, use setLogLevel(newLevel).\n",
      "23/03/04 02:01:14 WARN NativeCodeLoader: Unable to load native-hadoop library for your platform... using builtin-java classes where applicable\n"
     ]
    }
   ],
   "source": [
    "spark = SparkSession.builder.appName(\"cs544\").getOrCreate()"
   ]
  },
  {
   "cell_type": "code",
   "execution_count": 4,
   "id": "93d76764-c0fc-43c5-899c-d6c611243823",
   "metadata": {},
   "outputs": [],
   "source": [
    "sc = spark.sparkContext"
   ]
  },
  {
   "cell_type": "code",
   "execution_count": 5,
   "id": "c542730c-7263-4216-9848-ba8b55233994",
   "metadata": {},
   "outputs": [],
   "source": [
    "nums = list(range(0, 1000000))   # 0, 1, 2, ..."
   ]
  },
  {
   "cell_type": "code",
   "execution_count": 17,
   "id": "d0cf1f9c-24b9-46ca-b053-3a6be6aea84a",
   "metadata": {},
   "outputs": [
    {
     "data": {
      "text/plain": [
       "10"
      ]
     },
     "execution_count": 17,
     "metadata": {},
     "output_type": "execute_result"
    }
   ],
   "source": [
    "rdd = sc.parallelize(nums, 10)\n",
    "rdd.getNumPartitions()"
   ]
  },
  {
   "cell_type": "code",
   "execution_count": 18,
   "id": "b18812c9-9ec1-4699-99cf-674e1f131142",
   "metadata": {},
   "outputs": [],
   "source": [
    "inverses = rdd.filter(lambda x: x != 0).map(lambda x: 1/x)   # map is a \"transformation\""
   ]
  },
  {
   "cell_type": "code",
   "execution_count": 19,
   "id": "8c0a94d3-455b-4e7a-b4ed-faa428e67665",
   "metadata": {},
   "outputs": [
    {
     "name": "stderr",
     "output_type": "stream",
     "text": [
      "                                                                                \r"
     ]
    },
    {
     "data": {
      "text/plain": [
       "1.4392740115605814e-05"
      ]
     },
     "execution_count": 19,
     "metadata": {},
     "output_type": "execute_result"
    }
   ],
   "source": [
    "inverses.mean()    # mean is an action()"
   ]
  },
  {
   "cell_type": "code",
   "execution_count": 20,
   "id": "cfff7fae-6d18-4742-80ba-1c15e3d6a9df",
   "metadata": {},
   "outputs": [
    {
     "data": {
      "text/plain": [
       "[1.0,\n",
       " 0.5,\n",
       " 0.3333333333333333,\n",
       " 0.25,\n",
       " 0.2,\n",
       " 0.16666666666666666,\n",
       " 0.14285714285714285,\n",
       " 0.125,\n",
       " 0.1111111111111111,\n",
       " 0.1]"
      ]
     },
     "execution_count": 20,
     "metadata": {},
     "output_type": "execute_result"
    }
   ],
   "source": [
    "inverses.take(10)"
   ]
  },
  {
   "cell_type": "code",
   "execution_count": 31,
   "id": "0ed32e67-881f-4db8-9e78-323e9831f562",
   "metadata": {},
   "outputs": [],
   "source": [
    "sample = rdd.sample(True, 0.1, 544).repartition(1).cache()"
   ]
  },
  {
   "cell_type": "code",
   "execution_count": 32,
   "id": "eda2fdb6-27cf-46bd-bedf-e0cd2bd31110",
   "metadata": {},
   "outputs": [],
   "source": [
    "import time"
   ]
  },
  {
   "cell_type": "code",
   "execution_count": 36,
   "id": "b45aae87-c4ba-4d9e-a18a-c28bd33788dd",
   "metadata": {},
   "outputs": [
    {
     "name": "stdout",
     "output_type": "stream",
     "text": [
      "498504.76157639606\n",
      "0.545332670211792\n"
     ]
    }
   ],
   "source": [
    "t0 = time.time()\n",
    "print(sample.mean())\n",
    "t1 = time.time()\n",
    "print(t1-t0)"
   ]
  },
  {
   "cell_type": "code",
   "execution_count": 30,
   "id": "0e47edb6-05ed-4882-8305-cc275f18c1f1",
   "metadata": {},
   "outputs": [
    {
     "data": {
      "text/plain": [
       "10"
      ]
     },
     "execution_count": 30,
     "metadata": {},
     "output_type": "execute_result"
    }
   ],
   "source": [
    "sample.getNumPartitions()"
   ]
  },
  {
   "cell_type": "code",
   "execution_count": 37,
   "id": "d026c292-de3c-43d2-831c-80e18c1e8a46",
   "metadata": {},
   "outputs": [
    {
     "name": "stdout",
     "output_type": "stream",
     "text": [
      "--2023-03-04 02:12:52--  https://pages.cs.wisc.edu/~harter/cs639/data/ghcnd-stations.txt\n",
      "Resolving pages.cs.wisc.edu (pages.cs.wisc.edu)... 128.105.7.9\n",
      "Connecting to pages.cs.wisc.edu (pages.cs.wisc.edu)|128.105.7.9|:443... connected.\n",
      "HTTP request sent, awaiting response... 200 OK\n",
      "Length: 10607756 (10M) [text/plain]\n",
      "Saving to: ‘ghcnd-stations.txt’\n",
      "\n",
      "ghcnd-stations.txt  100%[===================>]  10.12M  15.0MB/s    in 0.7s    \n",
      "\n",
      "2023-03-04 02:12:54 (15.0 MB/s) - ‘ghcnd-stations.txt’ saved [10607756/10607756]\n",
      "\n"
     ]
    }
   ],
   "source": [
    "! wget https://pages.cs.wisc.edu/~harter/cs639/data/ghcnd-stations.txt"
   ]
  },
  {
   "cell_type": "code",
   "execution_count": 38,
   "id": "ac3fde4e-0eda-4cc1-a898-8c5c2a6946ea",
   "metadata": {},
   "outputs": [],
   "source": [
    "df = spark.read.text(\"ghcnd-stations.txt\")"
   ]
  },
  {
   "cell_type": "code",
   "execution_count": 39,
   "id": "fe13625c-7eea-4f91-8fd9-d72d1ae81af6",
   "metadata": {},
   "outputs": [
    {
     "data": {
      "text/plain": [
       "[('value', 'string')]"
      ]
     },
     "execution_count": 39,
     "metadata": {},
     "output_type": "execute_result"
    }
   ],
   "source": [
    "df.dtypes"
   ]
  },
  {
   "cell_type": "code",
   "execution_count": 40,
   "id": "54f8678e-bfde-483a-a982-5f108017ecc8",
   "metadata": {},
   "outputs": [
    {
     "data": {
      "text/plain": [
       "DataFrame[value: string]"
      ]
     },
     "execution_count": 40,
     "metadata": {},
     "output_type": "execute_result"
    }
   ],
   "source": [
    "df"
   ]
  },
  {
   "cell_type": "code",
   "execution_count": 42,
   "id": "06bf730d-feef-4f98-96a6-df31e26572b5",
   "metadata": {},
   "outputs": [
    {
     "data": {
      "text/plain": [
       "(pyspark.sql.dataframe.DataFrame, pyspark.rdd.RDD)"
      ]
     },
     "execution_count": 42,
     "metadata": {},
     "output_type": "execute_result"
    }
   ],
   "source": [
    "type(df), type(df.rdd)"
   ]
  },
  {
   "cell_type": "code",
   "execution_count": 44,
   "id": "09c635b2-8427-439a-9a0a-eea0a61b3b7a",
   "metadata": {},
   "outputs": [
    {
     "data": {
      "text/plain": [
       "[Row(value='ACW00011604  17.1167  -61.7833   10.1    ST JOHNS COOLIDGE FLD                       '),\n",
       " Row(value='ACW00011647  17.1333  -61.7833   19.2    ST JOHNS                                    '),\n",
       " Row(value='AE000041196  25.3330   55.5170   34.0    SHARJAH INTER. AIRP            GSN     41196'),\n",
       " Row(value='AEM00041194  25.2550   55.3640   10.4    DUBAI INTL                             41194'),\n",
       " Row(value='AEM00041217  24.4330   54.6510   26.8    ABU DHABI INTL                         41217'),\n",
       " Row(value='AEM00041218  24.2620   55.6090  264.9    AL AIN INTL                            41218'),\n",
       " Row(value='AF000040930  35.3170   69.0170 3366.0    NORTH-SALANG                   GSN     40930'),\n",
       " Row(value='AFM00040938  34.2100   62.2280  977.2    HERAT                                  40938'),\n",
       " Row(value='AFM00040948  34.5660   69.2120 1791.3    KABUL INTL                             40948'),\n",
       " Row(value='AFM00040990  31.5000   65.8500 1010.0    KANDAHAR AIRPORT                       40990')]"
      ]
     },
     "execution_count": 44,
     "metadata": {},
     "output_type": "execute_result"
    }
   ],
   "source": [
    "df.take(10)"
   ]
  },
  {
   "cell_type": "code",
   "execution_count": 47,
   "id": "5b2fe881-2c11-4564-8df5-5fff655b462d",
   "metadata": {},
   "outputs": [
    {
     "data": {
      "text/html": [
       "<div>\n",
       "<style scoped>\n",
       "    .dataframe tbody tr th:only-of-type {\n",
       "        vertical-align: middle;\n",
       "    }\n",
       "\n",
       "    .dataframe tbody tr th {\n",
       "        vertical-align: top;\n",
       "    }\n",
       "\n",
       "    .dataframe thead th {\n",
       "        text-align: right;\n",
       "    }\n",
       "</style>\n",
       "<table border=\"1\" class=\"dataframe\">\n",
       "  <thead>\n",
       "    <tr style=\"text-align: right;\">\n",
       "      <th></th>\n",
       "      <th>value</th>\n",
       "    </tr>\n",
       "  </thead>\n",
       "  <tbody>\n",
       "    <tr>\n",
       "      <th>0</th>\n",
       "      <td>ACW00011604  17.1167  -61.7833   10.1    ST JO...</td>\n",
       "    </tr>\n",
       "    <tr>\n",
       "      <th>1</th>\n",
       "      <td>ACW00011647  17.1333  -61.7833   19.2    ST JO...</td>\n",
       "    </tr>\n",
       "    <tr>\n",
       "      <th>2</th>\n",
       "      <td>AE000041196  25.3330   55.5170   34.0    SHARJ...</td>\n",
       "    </tr>\n",
       "    <tr>\n",
       "      <th>3</th>\n",
       "      <td>AEM00041194  25.2550   55.3640   10.4    DUBAI...</td>\n",
       "    </tr>\n",
       "    <tr>\n",
       "      <th>4</th>\n",
       "      <td>AEM00041217  24.4330   54.6510   26.8    ABU D...</td>\n",
       "    </tr>\n",
       "    <tr>\n",
       "      <th>5</th>\n",
       "      <td>AEM00041218  24.2620   55.6090  264.9    AL AI...</td>\n",
       "    </tr>\n",
       "    <tr>\n",
       "      <th>6</th>\n",
       "      <td>AF000040930  35.3170   69.0170 3366.0    NORTH...</td>\n",
       "    </tr>\n",
       "    <tr>\n",
       "      <th>7</th>\n",
       "      <td>AFM00040938  34.2100   62.2280  977.2    HERAT...</td>\n",
       "    </tr>\n",
       "    <tr>\n",
       "      <th>8</th>\n",
       "      <td>AFM00040948  34.5660   69.2120 1791.3    KABUL...</td>\n",
       "    </tr>\n",
       "    <tr>\n",
       "      <th>9</th>\n",
       "      <td>AFM00040990  31.5000   65.8500 1010.0    KANDA...</td>\n",
       "    </tr>\n",
       "  </tbody>\n",
       "</table>\n",
       "</div>"
      ],
      "text/plain": [
       "                                               value\n",
       "0  ACW00011604  17.1167  -61.7833   10.1    ST JO...\n",
       "1  ACW00011647  17.1333  -61.7833   19.2    ST JO...\n",
       "2  AE000041196  25.3330   55.5170   34.0    SHARJ...\n",
       "3  AEM00041194  25.2550   55.3640   10.4    DUBAI...\n",
       "4  AEM00041217  24.4330   54.6510   26.8    ABU D...\n",
       "5  AEM00041218  24.2620   55.6090  264.9    AL AI...\n",
       "6  AF000040930  35.3170   69.0170 3366.0    NORTH...\n",
       "7  AFM00040938  34.2100   62.2280  977.2    HERAT...\n",
       "8  AFM00040948  34.5660   69.2120 1791.3    KABUL...\n",
       "9  AFM00040990  31.5000   65.8500 1010.0    KANDA..."
      ]
     },
     "execution_count": 47,
     "metadata": {},
     "output_type": "execute_result"
    }
   ],
   "source": [
    "pandas_df = df.limit(10).toPandas()\n",
    "pandas_df"
   ]
  },
  {
   "cell_type": "code",
   "execution_count": 51,
   "id": "a5d895fe-33d6-4206-8126-0e9f2db1d9d8",
   "metadata": {},
   "outputs": [
    {
     "data": {
      "text/html": [
       "<div>\n",
       "<style scoped>\n",
       "    .dataframe tbody tr th:only-of-type {\n",
       "        vertical-align: middle;\n",
       "    }\n",
       "\n",
       "    .dataframe tbody tr th {\n",
       "        vertical-align: top;\n",
       "    }\n",
       "\n",
       "    .dataframe thead th {\n",
       "        text-align: right;\n",
       "    }\n",
       "</style>\n",
       "<table border=\"1\" class=\"dataframe\">\n",
       "  <thead>\n",
       "    <tr style=\"text-align: right;\">\n",
       "      <th></th>\n",
       "      <th>value</th>\n",
       "      <th>station</th>\n",
       "    </tr>\n",
       "  </thead>\n",
       "  <tbody>\n",
       "    <tr>\n",
       "      <th>0</th>\n",
       "      <td>ACW00011604  17.1167  -61.7833   10.1    ST JO...</td>\n",
       "      <td>ACW00011604</td>\n",
       "    </tr>\n",
       "    <tr>\n",
       "      <th>1</th>\n",
       "      <td>ACW00011647  17.1333  -61.7833   19.2    ST JO...</td>\n",
       "      <td>ACW00011647</td>\n",
       "    </tr>\n",
       "    <tr>\n",
       "      <th>2</th>\n",
       "      <td>AE000041196  25.3330   55.5170   34.0    SHARJ...</td>\n",
       "      <td>AE000041196</td>\n",
       "    </tr>\n",
       "    <tr>\n",
       "      <th>3</th>\n",
       "      <td>AEM00041194  25.2550   55.3640   10.4    DUBAI...</td>\n",
       "      <td>AEM00041194</td>\n",
       "    </tr>\n",
       "    <tr>\n",
       "      <th>4</th>\n",
       "      <td>AEM00041217  24.4330   54.6510   26.8    ABU D...</td>\n",
       "      <td>AEM00041217</td>\n",
       "    </tr>\n",
       "    <tr>\n",
       "      <th>5</th>\n",
       "      <td>AEM00041218  24.2620   55.6090  264.9    AL AI...</td>\n",
       "      <td>AEM00041218</td>\n",
       "    </tr>\n",
       "    <tr>\n",
       "      <th>6</th>\n",
       "      <td>AF000040930  35.3170   69.0170 3366.0    NORTH...</td>\n",
       "      <td>AF000040930</td>\n",
       "    </tr>\n",
       "    <tr>\n",
       "      <th>7</th>\n",
       "      <td>AFM00040938  34.2100   62.2280  977.2    HERAT...</td>\n",
       "      <td>AFM00040938</td>\n",
       "    </tr>\n",
       "    <tr>\n",
       "      <th>8</th>\n",
       "      <td>AFM00040948  34.5660   69.2120 1791.3    KABUL...</td>\n",
       "      <td>AFM00040948</td>\n",
       "    </tr>\n",
       "    <tr>\n",
       "      <th>9</th>\n",
       "      <td>AFM00040990  31.5000   65.8500 1010.0    KANDA...</td>\n",
       "      <td>AFM00040990</td>\n",
       "    </tr>\n",
       "  </tbody>\n",
       "</table>\n",
       "</div>"
      ],
      "text/plain": [
       "                                               value      station\n",
       "0  ACW00011604  17.1167  -61.7833   10.1    ST JO...  ACW00011604\n",
       "1  ACW00011647  17.1333  -61.7833   19.2    ST JO...  ACW00011647\n",
       "2  AE000041196  25.3330   55.5170   34.0    SHARJ...  AE000041196\n",
       "3  AEM00041194  25.2550   55.3640   10.4    DUBAI...  AEM00041194\n",
       "4  AEM00041217  24.4330   54.6510   26.8    ABU D...  AEM00041217\n",
       "5  AEM00041218  24.2620   55.6090  264.9    AL AI...  AEM00041218\n",
       "6  AF000040930  35.3170   69.0170 3366.0    NORTH...  AF000040930\n",
       "7  AFM00040938  34.2100   62.2280  977.2    HERAT...  AFM00040938\n",
       "8  AFM00040948  34.5660   69.2120 1791.3    KABUL...  AFM00040948\n",
       "9  AFM00040990  31.5000   65.8500 1010.0    KANDA...  AFM00040990"
      ]
     },
     "execution_count": 51,
     "metadata": {},
     "output_type": "execute_result"
    }
   ],
   "source": [
    "pandas_df[\"station\"] = pandas_df[\"value\"].str[:11] # mutable\n",
    "pandas_df"
   ]
  },
  {
   "cell_type": "code",
   "execution_count": 54,
   "id": "a6ae8826-8407-477f-82de-fc61aec8c60e",
   "metadata": {},
   "outputs": [],
   "source": [
    "from pyspark.sql.functions import expr"
   ]
  },
  {
   "cell_type": "code",
   "execution_count": 58,
   "id": "2c43b353-8aa6-4d9b-971d-2869250eaae7",
   "metadata": {},
   "outputs": [],
   "source": [
    "# rdds (and Spark DFs) are immutable, so create a new one to add/remove columns\n",
    "df2 = df.withColumn(\"station\", expr(\"substring(value, 0, 11)\"))"
   ]
  },
  {
   "cell_type": "code",
   "execution_count": 59,
   "id": "47e5a48c-1e15-46fc-b52e-c0e7b0bccf93",
   "metadata": {},
   "outputs": [
    {
     "data": {
      "text/plain": [
       "[('value', 'string'), ('station', 'string')]"
      ]
     },
     "execution_count": 59,
     "metadata": {},
     "output_type": "execute_result"
    }
   ],
   "source": [
    "df2.dtypes"
   ]
  },
  {
   "cell_type": "code",
   "execution_count": 60,
   "id": "603fcece-c5b0-454d-8552-cbad194e31d4",
   "metadata": {},
   "outputs": [
    {
     "data": {
      "text/html": [
       "<div>\n",
       "<style scoped>\n",
       "    .dataframe tbody tr th:only-of-type {\n",
       "        vertical-align: middle;\n",
       "    }\n",
       "\n",
       "    .dataframe tbody tr th {\n",
       "        vertical-align: top;\n",
       "    }\n",
       "\n",
       "    .dataframe thead th {\n",
       "        text-align: right;\n",
       "    }\n",
       "</style>\n",
       "<table border=\"1\" class=\"dataframe\">\n",
       "  <thead>\n",
       "    <tr style=\"text-align: right;\">\n",
       "      <th></th>\n",
       "      <th>value</th>\n",
       "      <th>station</th>\n",
       "    </tr>\n",
       "  </thead>\n",
       "  <tbody>\n",
       "    <tr>\n",
       "      <th>0</th>\n",
       "      <td>ACW00011604  17.1167  -61.7833   10.1    ST JO...</td>\n",
       "      <td>ACW00011604</td>\n",
       "    </tr>\n",
       "    <tr>\n",
       "      <th>1</th>\n",
       "      <td>ACW00011647  17.1333  -61.7833   19.2    ST JO...</td>\n",
       "      <td>ACW00011647</td>\n",
       "    </tr>\n",
       "    <tr>\n",
       "      <th>2</th>\n",
       "      <td>AE000041196  25.3330   55.5170   34.0    SHARJ...</td>\n",
       "      <td>AE000041196</td>\n",
       "    </tr>\n",
       "    <tr>\n",
       "      <th>3</th>\n",
       "      <td>AEM00041194  25.2550   55.3640   10.4    DUBAI...</td>\n",
       "      <td>AEM00041194</td>\n",
       "    </tr>\n",
       "    <tr>\n",
       "      <th>4</th>\n",
       "      <td>AEM00041217  24.4330   54.6510   26.8    ABU D...</td>\n",
       "      <td>AEM00041217</td>\n",
       "    </tr>\n",
       "    <tr>\n",
       "      <th>5</th>\n",
       "      <td>AEM00041218  24.2620   55.6090  264.9    AL AI...</td>\n",
       "      <td>AEM00041218</td>\n",
       "    </tr>\n",
       "    <tr>\n",
       "      <th>6</th>\n",
       "      <td>AF000040930  35.3170   69.0170 3366.0    NORTH...</td>\n",
       "      <td>AF000040930</td>\n",
       "    </tr>\n",
       "    <tr>\n",
       "      <th>7</th>\n",
       "      <td>AFM00040938  34.2100   62.2280  977.2    HERAT...</td>\n",
       "      <td>AFM00040938</td>\n",
       "    </tr>\n",
       "    <tr>\n",
       "      <th>8</th>\n",
       "      <td>AFM00040948  34.5660   69.2120 1791.3    KABUL...</td>\n",
       "      <td>AFM00040948</td>\n",
       "    </tr>\n",
       "    <tr>\n",
       "      <th>9</th>\n",
       "      <td>AFM00040990  31.5000   65.8500 1010.0    KANDA...</td>\n",
       "      <td>AFM00040990</td>\n",
       "    </tr>\n",
       "  </tbody>\n",
       "</table>\n",
       "</div>"
      ],
      "text/plain": [
       "                                               value      station\n",
       "0  ACW00011604  17.1167  -61.7833   10.1    ST JO...  ACW00011604\n",
       "1  ACW00011647  17.1333  -61.7833   19.2    ST JO...  ACW00011647\n",
       "2  AE000041196  25.3330   55.5170   34.0    SHARJ...  AE000041196\n",
       "3  AEM00041194  25.2550   55.3640   10.4    DUBAI...  AEM00041194\n",
       "4  AEM00041217  24.4330   54.6510   26.8    ABU D...  AEM00041217\n",
       "5  AEM00041218  24.2620   55.6090  264.9    AL AI...  AEM00041218\n",
       "6  AF000040930  35.3170   69.0170 3366.0    NORTH...  AF000040930\n",
       "7  AFM00040938  34.2100   62.2280  977.2    HERAT...  AFM00040938\n",
       "8  AFM00040948  34.5660   69.2120 1791.3    KABUL...  AFM00040948\n",
       "9  AFM00040990  31.5000   65.8500 1010.0    KANDA...  AFM00040990"
      ]
     },
     "execution_count": 60,
     "metadata": {},
     "output_type": "execute_result"
    }
   ],
   "source": [
    "df2.limit(10).toPandas()"
   ]
  },
  {
   "cell_type": "code",
   "execution_count": null,
   "id": "8b00bf72-3275-4286-9080-8c1130dbac97",
   "metadata": {},
   "outputs": [],
   "source": []
  }
 ],
 "metadata": {
  "kernelspec": {
   "display_name": "Python 3 (ipykernel)",
   "language": "python",
   "name": "python3"
  },
  "language_info": {
   "codemirror_mode": {
    "name": "ipython",
    "version": 3
   },
   "file_extension": ".py",
   "mimetype": "text/x-python",
   "name": "python",
   "nbconvert_exporter": "python",
   "pygments_lexer": "ipython3",
   "version": "3.10.6"
  }
 },
 "nbformat": 4,
 "nbformat_minor": 5
}
